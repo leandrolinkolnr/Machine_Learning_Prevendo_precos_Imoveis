{
 "cells": [
  {
   "cell_type": "markdown",
   "id": "9ab1f7a6",
   "metadata": {},
   "source": [
    "# House Prices - Advanced Regression Techniques\n",
    "\n",
    "\n",
    "<img src=\"https://storage.googleapis.com/kaggle-media/competitions/House%20Prices/kaggle_5407_media_housesbanner.png\">\n",
    "\n",
    "### Preços de casas - Técnicas Avançadas de Regressão\n",
    "\n",
    "- Vamos utilizar o [dataset disponível no Kaggle](https://www.kaggle.com/competitions/house-prices-advanced-regression-techniques/overview)\n",
    "   "
   ]
  },
  {
   "cell_type": "code",
   "execution_count": 1,
   "id": "0233c934",
   "metadata": {},
   "outputs": [],
   "source": [
    "import pandas as pd\n",
    "import matplotlib.pyplot as plt\n",
    "import seaborn as sns"
   ]
  },
  {
   "cell_type": "markdown",
   "id": "6fef84b9",
   "metadata": {},
   "source": [
    "### Importando e visualizando base"
   ]
  },
  {
   "cell_type": "code",
   "execution_count": 2,
   "id": "3c8d95e7",
   "metadata": {
    "scrolled": true
   },
   "outputs": [
    {
     "data": {
      "text/html": [
       "<div>\n",
       "<style scoped>\n",
       "    .dataframe tbody tr th:only-of-type {\n",
       "        vertical-align: middle;\n",
       "    }\n",
       "\n",
       "    .dataframe tbody tr th {\n",
       "        vertical-align: top;\n",
       "    }\n",
       "\n",
       "    .dataframe thead th {\n",
       "        text-align: right;\n",
       "    }\n",
       "</style>\n",
       "<table border=\"1\" class=\"dataframe\">\n",
       "  <thead>\n",
       "    <tr style=\"text-align: right;\">\n",
       "      <th></th>\n",
       "      <th>Id</th>\n",
       "      <th>MSSubClass</th>\n",
       "      <th>MSZoning</th>\n",
       "      <th>LotFrontage</th>\n",
       "      <th>LotArea</th>\n",
       "      <th>Street</th>\n",
       "      <th>Alley</th>\n",
       "      <th>LotShape</th>\n",
       "      <th>LandContour</th>\n",
       "      <th>Utilities</th>\n",
       "      <th>...</th>\n",
       "      <th>PoolArea</th>\n",
       "      <th>PoolQC</th>\n",
       "      <th>Fence</th>\n",
       "      <th>MiscFeature</th>\n",
       "      <th>MiscVal</th>\n",
       "      <th>MoSold</th>\n",
       "      <th>YrSold</th>\n",
       "      <th>SaleType</th>\n",
       "      <th>SaleCondition</th>\n",
       "      <th>SalePrice</th>\n",
       "    </tr>\n",
       "  </thead>\n",
       "  <tbody>\n",
       "    <tr>\n",
       "      <th>0</th>\n",
       "      <td>1</td>\n",
       "      <td>60</td>\n",
       "      <td>RL</td>\n",
       "      <td>65.0</td>\n",
       "      <td>8450</td>\n",
       "      <td>Pave</td>\n",
       "      <td>NaN</td>\n",
       "      <td>Reg</td>\n",
       "      <td>Lvl</td>\n",
       "      <td>AllPub</td>\n",
       "      <td>...</td>\n",
       "      <td>0</td>\n",
       "      <td>NaN</td>\n",
       "      <td>NaN</td>\n",
       "      <td>NaN</td>\n",
       "      <td>0</td>\n",
       "      <td>2</td>\n",
       "      <td>2008</td>\n",
       "      <td>WD</td>\n",
       "      <td>Normal</td>\n",
       "      <td>208500</td>\n",
       "    </tr>\n",
       "    <tr>\n",
       "      <th>1</th>\n",
       "      <td>2</td>\n",
       "      <td>20</td>\n",
       "      <td>RL</td>\n",
       "      <td>80.0</td>\n",
       "      <td>9600</td>\n",
       "      <td>Pave</td>\n",
       "      <td>NaN</td>\n",
       "      <td>Reg</td>\n",
       "      <td>Lvl</td>\n",
       "      <td>AllPub</td>\n",
       "      <td>...</td>\n",
       "      <td>0</td>\n",
       "      <td>NaN</td>\n",
       "      <td>NaN</td>\n",
       "      <td>NaN</td>\n",
       "      <td>0</td>\n",
       "      <td>5</td>\n",
       "      <td>2007</td>\n",
       "      <td>WD</td>\n",
       "      <td>Normal</td>\n",
       "      <td>181500</td>\n",
       "    </tr>\n",
       "    <tr>\n",
       "      <th>2</th>\n",
       "      <td>3</td>\n",
       "      <td>60</td>\n",
       "      <td>RL</td>\n",
       "      <td>68.0</td>\n",
       "      <td>11250</td>\n",
       "      <td>Pave</td>\n",
       "      <td>NaN</td>\n",
       "      <td>IR1</td>\n",
       "      <td>Lvl</td>\n",
       "      <td>AllPub</td>\n",
       "      <td>...</td>\n",
       "      <td>0</td>\n",
       "      <td>NaN</td>\n",
       "      <td>NaN</td>\n",
       "      <td>NaN</td>\n",
       "      <td>0</td>\n",
       "      <td>9</td>\n",
       "      <td>2008</td>\n",
       "      <td>WD</td>\n",
       "      <td>Normal</td>\n",
       "      <td>223500</td>\n",
       "    </tr>\n",
       "  </tbody>\n",
       "</table>\n",
       "<p>3 rows × 81 columns</p>\n",
       "</div>"
      ],
      "text/plain": [
       "   Id  MSSubClass MSZoning  LotFrontage  LotArea Street Alley LotShape  \\\n",
       "0   1          60       RL         65.0     8450   Pave   NaN      Reg   \n",
       "1   2          20       RL         80.0     9600   Pave   NaN      Reg   \n",
       "2   3          60       RL         68.0    11250   Pave   NaN      IR1   \n",
       "\n",
       "  LandContour Utilities  ... PoolArea PoolQC Fence MiscFeature MiscVal MoSold  \\\n",
       "0         Lvl    AllPub  ...        0    NaN   NaN         NaN       0      2   \n",
       "1         Lvl    AllPub  ...        0    NaN   NaN         NaN       0      5   \n",
       "2         Lvl    AllPub  ...        0    NaN   NaN         NaN       0      9   \n",
       "\n",
       "  YrSold  SaleType  SaleCondition  SalePrice  \n",
       "0   2008        WD         Normal     208500  \n",
       "1   2007        WD         Normal     181500  \n",
       "2   2008        WD         Normal     223500  \n",
       "\n",
       "[3 rows x 81 columns]"
      ]
     },
     "execution_count": 2,
     "metadata": {},
     "output_type": "execute_result"
    }
   ],
   "source": [
    "treino = pd.read_csv('train.csv')\n",
    "treino.head(3)"
   ]
  },
  {
   "cell_type": "code",
   "execution_count": 3,
   "id": "4f01a550",
   "metadata": {},
   "outputs": [
    {
     "data": {
      "text/html": [
       "<div>\n",
       "<style scoped>\n",
       "    .dataframe tbody tr th:only-of-type {\n",
       "        vertical-align: middle;\n",
       "    }\n",
       "\n",
       "    .dataframe tbody tr th {\n",
       "        vertical-align: top;\n",
       "    }\n",
       "\n",
       "    .dataframe thead th {\n",
       "        text-align: right;\n",
       "    }\n",
       "</style>\n",
       "<table border=\"1\" class=\"dataframe\">\n",
       "  <thead>\n",
       "    <tr style=\"text-align: right;\">\n",
       "      <th></th>\n",
       "      <th>Id</th>\n",
       "      <th>MSSubClass</th>\n",
       "      <th>MSZoning</th>\n",
       "      <th>LotFrontage</th>\n",
       "      <th>LotArea</th>\n",
       "      <th>Street</th>\n",
       "      <th>Alley</th>\n",
       "      <th>LotShape</th>\n",
       "      <th>LandContour</th>\n",
       "      <th>Utilities</th>\n",
       "      <th>...</th>\n",
       "      <th>ScreenPorch</th>\n",
       "      <th>PoolArea</th>\n",
       "      <th>PoolQC</th>\n",
       "      <th>Fence</th>\n",
       "      <th>MiscFeature</th>\n",
       "      <th>MiscVal</th>\n",
       "      <th>MoSold</th>\n",
       "      <th>YrSold</th>\n",
       "      <th>SaleType</th>\n",
       "      <th>SaleCondition</th>\n",
       "    </tr>\n",
       "  </thead>\n",
       "  <tbody>\n",
       "    <tr>\n",
       "      <th>0</th>\n",
       "      <td>1461</td>\n",
       "      <td>20</td>\n",
       "      <td>RH</td>\n",
       "      <td>80.0</td>\n",
       "      <td>11622</td>\n",
       "      <td>Pave</td>\n",
       "      <td>NaN</td>\n",
       "      <td>Reg</td>\n",
       "      <td>Lvl</td>\n",
       "      <td>AllPub</td>\n",
       "      <td>...</td>\n",
       "      <td>120</td>\n",
       "      <td>0</td>\n",
       "      <td>NaN</td>\n",
       "      <td>MnPrv</td>\n",
       "      <td>NaN</td>\n",
       "      <td>0</td>\n",
       "      <td>6</td>\n",
       "      <td>2010</td>\n",
       "      <td>WD</td>\n",
       "      <td>Normal</td>\n",
       "    </tr>\n",
       "    <tr>\n",
       "      <th>1</th>\n",
       "      <td>1462</td>\n",
       "      <td>20</td>\n",
       "      <td>RL</td>\n",
       "      <td>81.0</td>\n",
       "      <td>14267</td>\n",
       "      <td>Pave</td>\n",
       "      <td>NaN</td>\n",
       "      <td>IR1</td>\n",
       "      <td>Lvl</td>\n",
       "      <td>AllPub</td>\n",
       "      <td>...</td>\n",
       "      <td>0</td>\n",
       "      <td>0</td>\n",
       "      <td>NaN</td>\n",
       "      <td>NaN</td>\n",
       "      <td>Gar2</td>\n",
       "      <td>12500</td>\n",
       "      <td>6</td>\n",
       "      <td>2010</td>\n",
       "      <td>WD</td>\n",
       "      <td>Normal</td>\n",
       "    </tr>\n",
       "    <tr>\n",
       "      <th>2</th>\n",
       "      <td>1463</td>\n",
       "      <td>60</td>\n",
       "      <td>RL</td>\n",
       "      <td>74.0</td>\n",
       "      <td>13830</td>\n",
       "      <td>Pave</td>\n",
       "      <td>NaN</td>\n",
       "      <td>IR1</td>\n",
       "      <td>Lvl</td>\n",
       "      <td>AllPub</td>\n",
       "      <td>...</td>\n",
       "      <td>0</td>\n",
       "      <td>0</td>\n",
       "      <td>NaN</td>\n",
       "      <td>MnPrv</td>\n",
       "      <td>NaN</td>\n",
       "      <td>0</td>\n",
       "      <td>3</td>\n",
       "      <td>2010</td>\n",
       "      <td>WD</td>\n",
       "      <td>Normal</td>\n",
       "    </tr>\n",
       "  </tbody>\n",
       "</table>\n",
       "<p>3 rows × 80 columns</p>\n",
       "</div>"
      ],
      "text/plain": [
       "     Id  MSSubClass MSZoning  LotFrontage  LotArea Street Alley LotShape  \\\n",
       "0  1461          20       RH         80.0    11622   Pave   NaN      Reg   \n",
       "1  1462          20       RL         81.0    14267   Pave   NaN      IR1   \n",
       "2  1463          60       RL         74.0    13830   Pave   NaN      IR1   \n",
       "\n",
       "  LandContour Utilities  ... ScreenPorch PoolArea PoolQC  Fence MiscFeature  \\\n",
       "0         Lvl    AllPub  ...         120        0    NaN  MnPrv         NaN   \n",
       "1         Lvl    AllPub  ...           0        0    NaN    NaN        Gar2   \n",
       "2         Lvl    AllPub  ...           0        0    NaN  MnPrv         NaN   \n",
       "\n",
       "  MiscVal MoSold  YrSold  SaleType  SaleCondition  \n",
       "0       0      6    2010        WD         Normal  \n",
       "1   12500      6    2010        WD         Normal  \n",
       "2       0      3    2010        WD         Normal  \n",
       "\n",
       "[3 rows x 80 columns]"
      ]
     },
     "execution_count": 3,
     "metadata": {},
     "output_type": "execute_result"
    }
   ],
   "source": [
    "teste = pd.read_csv('test.csv')\n",
    "teste.head(3)"
   ]
  },
  {
   "cell_type": "code",
   "execution_count": null,
   "id": "3ab41c7c",
   "metadata": {},
   "outputs": [],
   "source": []
  },
  {
   "cell_type": "markdown",
   "id": "0e20960b",
   "metadata": {},
   "source": [
    "### Visualizando informações da base"
   ]
  },
  {
   "cell_type": "code",
   "execution_count": 4,
   "id": "ba3f0cd6",
   "metadata": {},
   "outputs": [
    {
     "name": "stdout",
     "output_type": "stream",
     "text": [
      "<class 'pandas.core.frame.DataFrame'>\n",
      "RangeIndex: 1460 entries, 0 to 1459\n",
      "Data columns (total 81 columns):\n",
      " #   Column         Non-Null Count  Dtype  \n",
      "---  ------         --------------  -----  \n",
      " 0   Id             1460 non-null   int64  \n",
      " 1   MSSubClass     1460 non-null   int64  \n",
      " 2   MSZoning       1460 non-null   object \n",
      " 3   LotFrontage    1201 non-null   float64\n",
      " 4   LotArea        1460 non-null   int64  \n",
      " 5   Street         1460 non-null   object \n",
      " 6   Alley          91 non-null     object \n",
      " 7   LotShape       1460 non-null   object \n",
      " 8   LandContour    1460 non-null   object \n",
      " 9   Utilities      1460 non-null   object \n",
      " 10  LotConfig      1460 non-null   object \n",
      " 11  LandSlope      1460 non-null   object \n",
      " 12  Neighborhood   1460 non-null   object \n",
      " 13  Condition1     1460 non-null   object \n",
      " 14  Condition2     1460 non-null   object \n",
      " 15  BldgType       1460 non-null   object \n",
      " 16  HouseStyle     1460 non-null   object \n",
      " 17  OverallQual    1460 non-null   int64  \n",
      " 18  OverallCond    1460 non-null   int64  \n",
      " 19  YearBuilt      1460 non-null   int64  \n",
      " 20  YearRemodAdd   1460 non-null   int64  \n",
      " 21  RoofStyle      1460 non-null   object \n",
      " 22  RoofMatl       1460 non-null   object \n",
      " 23  Exterior1st    1460 non-null   object \n",
      " 24  Exterior2nd    1460 non-null   object \n",
      " 25  MasVnrType     588 non-null    object \n",
      " 26  MasVnrArea     1452 non-null   float64\n",
      " 27  ExterQual      1460 non-null   object \n",
      " 28  ExterCond      1460 non-null   object \n",
      " 29  Foundation     1460 non-null   object \n",
      " 30  BsmtQual       1423 non-null   object \n",
      " 31  BsmtCond       1423 non-null   object \n",
      " 32  BsmtExposure   1422 non-null   object \n",
      " 33  BsmtFinType1   1423 non-null   object \n",
      " 34  BsmtFinSF1     1460 non-null   int64  \n",
      " 35  BsmtFinType2   1422 non-null   object \n",
      " 36  BsmtFinSF2     1460 non-null   int64  \n",
      " 37  BsmtUnfSF      1460 non-null   int64  \n",
      " 38  TotalBsmtSF    1460 non-null   int64  \n",
      " 39  Heating        1460 non-null   object \n",
      " 40  HeatingQC      1460 non-null   object \n",
      " 41  CentralAir     1460 non-null   object \n",
      " 42  Electrical     1459 non-null   object \n",
      " 43  1stFlrSF       1460 non-null   int64  \n",
      " 44  2ndFlrSF       1460 non-null   int64  \n",
      " 45  LowQualFinSF   1460 non-null   int64  \n",
      " 46  GrLivArea      1460 non-null   int64  \n",
      " 47  BsmtFullBath   1460 non-null   int64  \n",
      " 48  BsmtHalfBath   1460 non-null   int64  \n",
      " 49  FullBath       1460 non-null   int64  \n",
      " 50  HalfBath       1460 non-null   int64  \n",
      " 51  BedroomAbvGr   1460 non-null   int64  \n",
      " 52  KitchenAbvGr   1460 non-null   int64  \n",
      " 53  KitchenQual    1460 non-null   object \n",
      " 54  TotRmsAbvGrd   1460 non-null   int64  \n",
      " 55  Functional     1460 non-null   object \n",
      " 56  Fireplaces     1460 non-null   int64  \n",
      " 57  FireplaceQu    770 non-null    object \n",
      " 58  GarageType     1379 non-null   object \n",
      " 59  GarageYrBlt    1379 non-null   float64\n",
      " 60  GarageFinish   1379 non-null   object \n",
      " 61  GarageCars     1460 non-null   int64  \n",
      " 62  GarageArea     1460 non-null   int64  \n",
      " 63  GarageQual     1379 non-null   object \n",
      " 64  GarageCond     1379 non-null   object \n",
      " 65  PavedDrive     1460 non-null   object \n",
      " 66  WoodDeckSF     1460 non-null   int64  \n",
      " 67  OpenPorchSF    1460 non-null   int64  \n",
      " 68  EnclosedPorch  1460 non-null   int64  \n",
      " 69  3SsnPorch      1460 non-null   int64  \n",
      " 70  ScreenPorch    1460 non-null   int64  \n",
      " 71  PoolArea       1460 non-null   int64  \n",
      " 72  PoolQC         7 non-null      object \n",
      " 73  Fence          281 non-null    object \n",
      " 74  MiscFeature    54 non-null     object \n",
      " 75  MiscVal        1460 non-null   int64  \n",
      " 76  MoSold         1460 non-null   int64  \n",
      " 77  YrSold         1460 non-null   int64  \n",
      " 78  SaleType       1460 non-null   object \n",
      " 79  SaleCondition  1460 non-null   object \n",
      " 80  SalePrice      1460 non-null   int64  \n",
      "dtypes: float64(3), int64(35), object(43)\n",
      "memory usage: 924.0+ KB\n"
     ]
    }
   ],
   "source": [
    "treino.info()"
   ]
  },
  {
   "cell_type": "markdown",
   "id": "b2707443",
   "metadata": {},
   "source": [
    "## Analisando valores vazios"
   ]
  },
  {
   "cell_type": "code",
   "execution_count": 5,
   "id": "ad27e063",
   "metadata": {},
   "outputs": [
    {
     "data": {
      "text/plain": [
       "PoolQC          1453\n",
       "MiscFeature     1406\n",
       "Alley           1369\n",
       "Fence           1179\n",
       "MasVnrType       872\n",
       "FireplaceQu      690\n",
       "LotFrontage      259\n",
       "GarageYrBlt       81\n",
       "GarageCond        81\n",
       "GarageType        81\n",
       "GarageFinish      81\n",
       "GarageQual        81\n",
       "BsmtFinType2      38\n",
       "BsmtExposure      38\n",
       "BsmtQual          37\n",
       "BsmtCond          37\n",
       "BsmtFinType1      37\n",
       "MasVnrArea         8\n",
       "Electrical         1\n",
       "Id                 0\n",
       "dtype: int64"
      ]
     },
     "execution_count": 5,
     "metadata": {},
     "output_type": "execute_result"
    }
   ],
   "source": [
    "treino.isnull().sum().sort_values(ascending=False).head(20)"
   ]
  },
  {
   "cell_type": "markdown",
   "id": "ee27f4d4",
   "metadata": {},
   "source": [
    "### Visualizando a porcentagem de valores vazios em cada coluna"
   ]
  },
  {
   "cell_type": "code",
   "execution_count": 6,
   "id": "62e116fa",
   "metadata": {},
   "outputs": [
    {
     "data": {
      "text/plain": [
       "PoolQC          99.520548\n",
       "MiscFeature     96.301370\n",
       "Alley           93.767123\n",
       "Fence           80.753425\n",
       "MasVnrType      59.726027\n",
       "FireplaceQu     47.260274\n",
       "LotFrontage     17.739726\n",
       "GarageYrBlt      5.547945\n",
       "GarageCond       5.547945\n",
       "GarageType       5.547945\n",
       "GarageFinish     5.547945\n",
       "GarageQual       5.547945\n",
       "BsmtFinType2     2.602740\n",
       "BsmtExposure     2.602740\n",
       "BsmtQual         2.534247\n",
       "BsmtCond         2.534247\n",
       "BsmtFinType1     2.534247\n",
       "MasVnrArea       0.547945\n",
       "Electrical       0.068493\n",
       "Id               0.000000\n",
       "dtype: float64"
      ]
     },
     "execution_count": 6,
     "metadata": {},
     "output_type": "execute_result"
    }
   ],
   "source": [
    "((treino.isnull().sum()/treino.shape[0]).sort_values(ascending=False)* 100) .head(20)"
   ]
  },
  {
   "cell_type": "markdown",
   "id": "1be0ae63",
   "metadata": {},
   "source": [
    "### Apos uma analise, percebemos que nas 4 primeiras colunas, NA é sim é uma informação\n",
    "- Podemos substituir os valores vazios por -1"
   ]
  },
  {
   "cell_type": "code",
   "execution_count": 7,
   "id": "4fd07a91",
   "metadata": {},
   "outputs": [],
   "source": [
    "treino[['PoolQC','MiscFeature','Alley','Fence']] = treino[['PoolQC','MiscFeature','Alley','Fence']].fillna(-1)"
   ]
  },
  {
   "cell_type": "markdown",
   "id": "65ec487f",
   "metadata": {},
   "source": [
    "### Vamos eliminar as colunas com mais de 10% de valores vazios"
   ]
  },
  {
   "cell_type": "code",
   "execution_count": 8,
   "id": "bda71526",
   "metadata": {},
   "outputs": [
    {
     "data": {
      "text/plain": [
       "Index(['LotFrontage', 'MasVnrType', 'FireplaceQu'], dtype='object')"
      ]
     },
     "execution_count": 8,
     "metadata": {},
     "output_type": "execute_result"
    }
   ],
   "source": [
    "eliminar = treino.columns[treino.isnull().sum()/treino.shape[0] > 0.1]\n",
    "eliminar"
   ]
  },
  {
   "cell_type": "markdown",
   "id": "99bd58a2",
   "metadata": {},
   "source": [
    "### Temos que fazer o mesmo tratamento para o teste\n",
    "- Se não, da erro por dados diferentes."
   ]
  },
  {
   "cell_type": "code",
   "execution_count": 9,
   "id": "ff97453f",
   "metadata": {},
   "outputs": [],
   "source": [
    "treino = treino.drop(eliminar,axis=1)\n",
    "teste = teste.drop(eliminar,axis=1)"
   ]
  },
  {
   "cell_type": "markdown",
   "id": "cfe4f1f0",
   "metadata": {},
   "source": [
    "### Substituindo valores vazios restantes"
   ]
  },
  {
   "cell_type": "code",
   "execution_count": 10,
   "id": "6a772b25",
   "metadata": {},
   "outputs": [
    {
     "data": {
      "text/plain": [
       "GarageFinish    81\n",
       "GarageYrBlt     81\n",
       "GarageQual      81\n",
       "dtype: int64"
      ]
     },
     "execution_count": 10,
     "metadata": {},
     "output_type": "execute_result"
    }
   ],
   "source": [
    "treino.isnull().sum().sort_values(ascending=False).head(3)"
   ]
  },
  {
   "cell_type": "code",
   "execution_count": 11,
   "id": "541f70d8",
   "metadata": {},
   "outputs": [],
   "source": [
    "treino = treino.fillna(-1)"
   ]
  },
  {
   "cell_type": "markdown",
   "id": "505d7969",
   "metadata": {},
   "source": [
    "#### Verificando novamente"
   ]
  },
  {
   "cell_type": "code",
   "execution_count": 12,
   "id": "109698c6",
   "metadata": {},
   "outputs": [
    {
     "data": {
      "text/plain": [
       "Id              0\n",
       "BedroomAbvGr    0\n",
       "GarageYrBlt     0\n",
       "dtype: int64"
      ]
     },
     "execution_count": 12,
     "metadata": {},
     "output_type": "execute_result"
    }
   ],
   "source": [
    "treino.isnull().sum().sort_values(ascending=False).head(3)"
   ]
  },
  {
   "cell_type": "code",
   "execution_count": null,
   "id": "bd1814d7",
   "metadata": {},
   "outputs": [],
   "source": []
  },
  {
   "cell_type": "code",
   "execution_count": null,
   "id": "5165a8e5",
   "metadata": {},
   "outputs": [],
   "source": []
  },
  {
   "cell_type": "code",
   "execution_count": null,
   "id": "74c6704c",
   "metadata": {},
   "outputs": [],
   "source": []
  },
  {
   "cell_type": "markdown",
   "id": "c16e7d24",
   "metadata": {},
   "source": [
    "# Analise exploratoria dos dados"
   ]
  },
  {
   "cell_type": "code",
   "execution_count": null,
   "id": "d85694cb",
   "metadata": {},
   "outputs": [],
   "source": []
  },
  {
   "cell_type": "markdown",
   "id": "afaaa629",
   "metadata": {},
   "source": [
    "### Verificando a cardinalidade dos dados\n"
   ]
  },
  {
   "cell_type": "code",
   "execution_count": 13,
   "id": "34133f2f",
   "metadata": {},
   "outputs": [
    {
     "data": {
      "text/plain": [
       "Id             1460\n",
       "LotArea        1073\n",
       "GrLivArea       861\n",
       "BsmtUnfSF       780\n",
       "1stFlrSF        753\n",
       "TotalBsmtSF     721\n",
       "SalePrice       663\n",
       "BsmtFinSF1      637\n",
       "GarageArea      441\n",
       "2ndFlrSF        417\n",
       "dtype: int64"
      ]
     },
     "execution_count": 13,
     "metadata": {},
     "output_type": "execute_result"
    }
   ],
   "source": [
    "treino.nunique().sort_values(ascending=False).head(10)"
   ]
  },
  {
   "cell_type": "markdown",
   "id": "d2d42ef4",
   "metadata": {},
   "source": [
    "- Por mais que o Id tenha uma alta cardinalidade, não irei eliminar esse valor pois vamos usar esse dado para fazer a submissão do nosso código. Alem disso, valores numericos naturalmente tem alta cardinalidade."
   ]
  },
  {
   "cell_type": "code",
   "execution_count": null,
   "id": "70cd1502",
   "metadata": {},
   "outputs": [],
   "source": []
  },
  {
   "cell_type": "markdown",
   "id": "267ab382",
   "metadata": {},
   "source": [
    "### Analisando a variavel target (SalePrice)"
   ]
  },
  {
   "cell_type": "code",
   "execution_count": 14,
   "id": "53593444",
   "metadata": {},
   "outputs": [
    {
     "data": {
      "text/plain": [
       "count      1460.000000\n",
       "mean     180921.195890\n",
       "std       79442.502883\n",
       "min       34900.000000\n",
       "25%      129975.000000\n",
       "50%      163000.000000\n",
       "75%      214000.000000\n",
       "max      755000.000000\n",
       "Name: SalePrice, dtype: float64"
      ]
     },
     "execution_count": 14,
     "metadata": {},
     "output_type": "execute_result"
    }
   ],
   "source": [
    "# Descrição estatística\n",
    "treino.SalePrice.describe()"
   ]
  },
  {
   "cell_type": "markdown",
   "id": "30731bf6",
   "metadata": {},
   "source": [
    "### Visualizando distribuição com Boxplot"
   ]
  },
  {
   "cell_type": "code",
   "execution_count": 15,
   "id": "02e923d8",
   "metadata": {},
   "outputs": [
    {
     "data": {
      "image/png": "[encoded data removed]",
      "text/plain": [
       "<Figure size 640x480 with 1 Axes>"
      ]
     },
     "metadata": {},
     "output_type": "display_data"
    }
   ],
   "source": [
    "treino.SalePrice.plot.box();"
   ]
  },
  {
   "cell_type": "code",
   "execution_count": null,
   "id": "b1acfed3",
   "metadata": {},
   "outputs": [],
   "source": []
  },
  {
   "cell_type": "markdown",
   "id": "fa948e0f",
   "metadata": {},
   "source": [
    "## Verificando a correlação entre os valores"
   ]
  },
  {
   "cell_type": "code",
   "execution_count": 16,
   "id": "74e25997",
   "metadata": {},
   "outputs": [],
   "source": [
    "# Pegando so colunas numericas\n",
    "treino_sn = treino.select_dtypes(include=['number'])"
   ]
  },
  {
   "cell_type": "code",
   "execution_count": 17,
   "id": "7a8c9404",
   "metadata": {},
   "outputs": [
    {
     "data": {
      "text/plain": [
       "KitchenAbvGr    -0.135907\n",
       "EnclosedPorch   -0.128578\n",
       "MSSubClass      -0.084284\n",
       "OverallCond     -0.077856\n",
       "YrSold          -0.028923\n",
       "LowQualFinSF    -0.025606\n",
       "Id              -0.021917\n",
       "MiscVal         -0.021190\n",
       "BsmtHalfBath    -0.016844\n",
       "BsmtFinSF2      -0.011378\n",
       "3SsnPorch        0.044584\n",
       "MoSold           0.046432\n",
       "PoolArea         0.092404\n",
       "ScreenPorch      0.111447\n",
       "BedroomAbvGr     0.168213\n",
       "BsmtUnfSF        0.214479\n",
       "BsmtFullBath     0.227122\n",
       "GarageYrBlt      0.261354\n",
       "LotArea          0.263843\n",
       "HalfBath         0.284108\n",
       "OpenPorchSF      0.315856\n",
       "2ndFlrSF         0.319334\n",
       "WoodDeckSF       0.324413\n",
       "BsmtFinSF1       0.386420\n",
       "Fireplaces       0.466929\n",
       "MasVnrArea       0.472585\n",
       "YearRemodAdd     0.507101\n",
       "YearBuilt        0.522897\n",
       "TotRmsAbvGrd     0.533723\n",
       "FullBath         0.560664\n",
       "1stFlrSF         0.605852\n",
       "TotalBsmtSF      0.613581\n",
       "GarageArea       0.623431\n",
       "GarageCars       0.640409\n",
       "GrLivArea        0.708624\n",
       "OverallQual      0.790982\n",
       "SalePrice        1.000000\n",
       "Name: SalePrice, dtype: float64"
      ]
     },
     "execution_count": 17,
     "metadata": {},
     "output_type": "execute_result"
    }
   ],
   "source": [
    "treino_sn.corr()['SalePrice'].sort_values()"
   ]
  },
  {
   "cell_type": "markdown",
   "id": "828f498a",
   "metadata": {},
   "source": [
    "### Visualizando graficamente a correlação"
   ]
  },
  {
   "cell_type": "code",
   "execution_count": 18,
   "id": "81c7a92e",
   "metadata": {},
   "outputs": [
    {
     "data": {
      "image/png": "[encoded data removed]",
      "text/plain": [
       "<Figure size 1500x800 with 2 Axes>"
      ]
     },
     "metadata": {},
     "output_type": "display_data"
    }
   ],
   "source": [
    "fig, ax = plt.subplots(figsize=(15,8))\n",
    "\n",
    "sns.heatmap(treino_sn.corr(),cmap='RdYlGn')\n",
    "\n",
    "plt.show()"
   ]
  },
  {
   "cell_type": "code",
   "execution_count": null,
   "id": "ab5a78ea",
   "metadata": {},
   "outputs": [],
   "source": []
  },
  {
   "cell_type": "markdown",
   "id": "cfb42604",
   "metadata": {},
   "source": [
    "## Visualizando relação entre o target e algumas variaveis\n",
    "- OverallQual: Alta Correlação positiva (Tentem a aumentar juntas)\n",
    "- BsmtHalfBath: Sem correlação\n",
    "- KitchenAbvGr: Alta Correlação negativa  ( Uma variavel tende a aumentar quando a outra diminui)"
   ]
  },
  {
   "cell_type": "code",
   "execution_count": 19,
   "id": "ac433fcd",
   "metadata": {},
   "outputs": [
    {
     "data": {
      "image/png": "[encoded data removed]",
      "text/plain": [
       "<Figure size 1500x500 with 3 Axes>"
      ]
     },
     "metadata": {},
     "output_type": "display_data"
    }
   ],
   "source": [
    "fig, ax = plt.subplots(ncols=3,figsize=(15,5))\n",
    "\n",
    "sns.regplot(data=treino,x='OverallQual',y='SalePrice',ax=ax[0])\n",
    "sns.regplot(data=treino,x='BsmtHalfBath',y='SalePrice',ax=ax[1])\n",
    "sns.regplot(data=treino,x='KitchenAbvGr',y='SalePrice',ax=ax[2])\n",
    "\n",
    "ax[0].set(ylim=(0,700000))\n",
    "ax[1].set(ylim=(0,700000),yticks=[])\n",
    "ax[2].set(ylim=(0,700000),yticks=[])\n",
    "\n",
    "plt.show()"
   ]
  },
  {
   "cell_type": "code",
   "execution_count": null,
   "id": "7ea443ff",
   "metadata": {},
   "outputs": [],
   "source": []
  },
  {
   "cell_type": "code",
   "execution_count": null,
   "id": "2d6c4090",
   "metadata": {},
   "outputs": [],
   "source": []
  },
  {
   "cell_type": "code",
   "execution_count": null,
   "id": "6d315adf",
   "metadata": {},
   "outputs": [],
   "source": []
  },
  {
   "cell_type": "markdown",
   "id": "5a4f9aa8",
   "metadata": {},
   "source": [
    "# Trabalhando com os dados textuais"
   ]
  },
  {
   "cell_type": "code",
   "execution_count": 20,
   "id": "ff6ded4a",
   "metadata": {},
   "outputs": [
    {
     "data": {
      "text/plain": [
       "Index(['MSZoning', 'Street', 'Alley', 'LotShape', 'LandContour', 'Utilities',\n",
       "       'LotConfig', 'LandSlope', 'Neighborhood', 'Condition1', 'Condition2',\n",
       "       'BldgType', 'HouseStyle', 'RoofStyle', 'RoofMatl', 'Exterior1st',\n",
       "       'Exterior2nd', 'ExterQual', 'ExterCond', 'Foundation', 'BsmtQual',\n",
       "       'BsmtCond', 'BsmtExposure', 'BsmtFinType1', 'BsmtFinType2', 'Heating',\n",
       "       'HeatingQC', 'CentralAir', 'Electrical', 'KitchenQual', 'Functional',\n",
       "       'GarageType', 'GarageFinish', 'GarageQual', 'GarageCond', 'PavedDrive',\n",
       "       'PoolQC', 'Fence', 'MiscFeature', 'SaleType', 'SaleCondition'],\n",
       "      dtype='object')"
      ]
     },
     "execution_count": 20,
     "metadata": {},
     "output_type": "execute_result"
    }
   ],
   "source": [
    "# Selecionando as colunas\n",
    "obj_cols = treino.columns[treino.dtypes == 'object']\n",
    "obj_cols"
   ]
  },
  {
   "cell_type": "markdown",
   "id": "b094d9dd",
   "metadata": {},
   "source": [
    "### Visualizando as casas mais caras"
   ]
  },
  {
   "cell_type": "code",
   "execution_count": 21,
   "id": "ce8d28e3",
   "metadata": {},
   "outputs": [
    {
     "data": {
      "text/html": [
       "<div>\n",
       "<style scoped>\n",
       "    .dataframe tbody tr th:only-of-type {\n",
       "        vertical-align: middle;\n",
       "    }\n",
       "\n",
       "    .dataframe tbody tr th {\n",
       "        vertical-align: top;\n",
       "    }\n",
       "\n",
       "    .dataframe thead th {\n",
       "        text-align: right;\n",
       "    }\n",
       "</style>\n",
       "<table border=\"1\" class=\"dataframe\">\n",
       "  <thead>\n",
       "    <tr style=\"text-align: right;\">\n",
       "      <th></th>\n",
       "      <th>MSZoning</th>\n",
       "      <th>Street</th>\n",
       "      <th>Alley</th>\n",
       "      <th>LotShape</th>\n",
       "      <th>LandContour</th>\n",
       "      <th>Utilities</th>\n",
       "      <th>LotConfig</th>\n",
       "      <th>LandSlope</th>\n",
       "      <th>Neighborhood</th>\n",
       "      <th>Condition1</th>\n",
       "      <th>...</th>\n",
       "      <th>GarageType</th>\n",
       "      <th>GarageFinish</th>\n",
       "      <th>GarageQual</th>\n",
       "      <th>GarageCond</th>\n",
       "      <th>PavedDrive</th>\n",
       "      <th>PoolQC</th>\n",
       "      <th>Fence</th>\n",
       "      <th>MiscFeature</th>\n",
       "      <th>SaleType</th>\n",
       "      <th>SaleCondition</th>\n",
       "    </tr>\n",
       "  </thead>\n",
       "  <tbody>\n",
       "    <tr>\n",
       "      <th>798</th>\n",
       "      <td>RL</td>\n",
       "      <td>Pave</td>\n",
       "      <td>-1</td>\n",
       "      <td>Reg</td>\n",
       "      <td>Lvl</td>\n",
       "      <td>AllPub</td>\n",
       "      <td>Inside</td>\n",
       "      <td>Gtl</td>\n",
       "      <td>NridgHt</td>\n",
       "      <td>Norm</td>\n",
       "      <td>...</td>\n",
       "      <td>BuiltIn</td>\n",
       "      <td>Fin</td>\n",
       "      <td>TA</td>\n",
       "      <td>TA</td>\n",
       "      <td>Y</td>\n",
       "      <td>-1</td>\n",
       "      <td>-1</td>\n",
       "      <td>-1</td>\n",
       "      <td>New</td>\n",
       "      <td>Partial</td>\n",
       "    </tr>\n",
       "    <tr>\n",
       "      <th>178</th>\n",
       "      <td>RL</td>\n",
       "      <td>Pave</td>\n",
       "      <td>-1</td>\n",
       "      <td>IR1</td>\n",
       "      <td>Lvl</td>\n",
       "      <td>AllPub</td>\n",
       "      <td>CulDSac</td>\n",
       "      <td>Gtl</td>\n",
       "      <td>StoneBr</td>\n",
       "      <td>Norm</td>\n",
       "      <td>...</td>\n",
       "      <td>Attchd</td>\n",
       "      <td>Fin</td>\n",
       "      <td>TA</td>\n",
       "      <td>TA</td>\n",
       "      <td>Y</td>\n",
       "      <td>-1</td>\n",
       "      <td>-1</td>\n",
       "      <td>-1</td>\n",
       "      <td>New</td>\n",
       "      <td>Partial</td>\n",
       "    </tr>\n",
       "    <tr>\n",
       "      <th>769</th>\n",
       "      <td>RL</td>\n",
       "      <td>Pave</td>\n",
       "      <td>-1</td>\n",
       "      <td>IR2</td>\n",
       "      <td>HLS</td>\n",
       "      <td>AllPub</td>\n",
       "      <td>CulDSac</td>\n",
       "      <td>Mod</td>\n",
       "      <td>StoneBr</td>\n",
       "      <td>Norm</td>\n",
       "      <td>...</td>\n",
       "      <td>BuiltIn</td>\n",
       "      <td>Fin</td>\n",
       "      <td>TA</td>\n",
       "      <td>TA</td>\n",
       "      <td>Y</td>\n",
       "      <td>-1</td>\n",
       "      <td>-1</td>\n",
       "      <td>-1</td>\n",
       "      <td>WD</td>\n",
       "      <td>Normal</td>\n",
       "    </tr>\n",
       "  </tbody>\n",
       "</table>\n",
       "<p>3 rows × 41 columns</p>\n",
       "</div>"
      ],
      "text/plain": [
       "    MSZoning Street Alley LotShape LandContour Utilities LotConfig LandSlope  \\\n",
       "798       RL   Pave    -1      Reg         Lvl    AllPub    Inside       Gtl   \n",
       "178       RL   Pave    -1      IR1         Lvl    AllPub   CulDSac       Gtl   \n",
       "769       RL   Pave    -1      IR2         HLS    AllPub   CulDSac       Mod   \n",
       "\n",
       "    Neighborhood Condition1  ... GarageType GarageFinish GarageQual  \\\n",
       "798      NridgHt       Norm  ...    BuiltIn          Fin         TA   \n",
       "178      StoneBr       Norm  ...     Attchd          Fin         TA   \n",
       "769      StoneBr       Norm  ...    BuiltIn          Fin         TA   \n",
       "\n",
       "    GarageCond PavedDrive PoolQC Fence MiscFeature SaleType SaleCondition  \n",
       "798         TA          Y     -1    -1          -1      New       Partial  \n",
       "178         TA          Y     -1    -1          -1      New       Partial  \n",
       "769         TA          Y     -1    -1          -1       WD        Normal  \n",
       "\n",
       "[3 rows x 41 columns]"
      ]
     },
     "execution_count": 21,
     "metadata": {},
     "output_type": "execute_result"
    }
   ],
   "source": [
    "caras = treino.sort_values('SalePrice').tail(10)\n",
    "caras = caras[obj_cols]  # So colunas de texto\n",
    "caras.head(3)"
   ]
  },
  {
   "cell_type": "markdown",
   "id": "ae2b5208",
   "metadata": {},
   "source": [
    "### Visualizando as casas mais baratas"
   ]
  },
  {
   "cell_type": "code",
   "execution_count": 22,
   "id": "3763b0f0",
   "metadata": {},
   "outputs": [
    {
     "data": {
      "text/html": [
       "<div>\n",
       "<style scoped>\n",
       "    .dataframe tbody tr th:only-of-type {\n",
       "        vertical-align: middle;\n",
       "    }\n",
       "\n",
       "    .dataframe tbody tr th {\n",
       "        vertical-align: top;\n",
       "    }\n",
       "\n",
       "    .dataframe thead th {\n",
       "        text-align: right;\n",
       "    }\n",
       "</style>\n",
       "<table border=\"1\" class=\"dataframe\">\n",
       "  <thead>\n",
       "    <tr style=\"text-align: right;\">\n",
       "      <th></th>\n",
       "      <th>MSZoning</th>\n",
       "      <th>Street</th>\n",
       "      <th>Alley</th>\n",
       "      <th>LotShape</th>\n",
       "      <th>LandContour</th>\n",
       "      <th>Utilities</th>\n",
       "      <th>LotConfig</th>\n",
       "      <th>LandSlope</th>\n",
       "      <th>Neighborhood</th>\n",
       "      <th>Condition1</th>\n",
       "      <th>...</th>\n",
       "      <th>GarageType</th>\n",
       "      <th>GarageFinish</th>\n",
       "      <th>GarageQual</th>\n",
       "      <th>GarageCond</th>\n",
       "      <th>PavedDrive</th>\n",
       "      <th>PoolQC</th>\n",
       "      <th>Fence</th>\n",
       "      <th>MiscFeature</th>\n",
       "      <th>SaleType</th>\n",
       "      <th>SaleCondition</th>\n",
       "    </tr>\n",
       "  </thead>\n",
       "  <tbody>\n",
       "    <tr>\n",
       "      <th>495</th>\n",
       "      <td>C (all)</td>\n",
       "      <td>Pave</td>\n",
       "      <td>-1</td>\n",
       "      <td>Reg</td>\n",
       "      <td>Lvl</td>\n",
       "      <td>AllPub</td>\n",
       "      <td>Inside</td>\n",
       "      <td>Gtl</td>\n",
       "      <td>IDOTRR</td>\n",
       "      <td>Norm</td>\n",
       "      <td>...</td>\n",
       "      <td>-1</td>\n",
       "      <td>-1</td>\n",
       "      <td>-1</td>\n",
       "      <td>-1</td>\n",
       "      <td>N</td>\n",
       "      <td>-1</td>\n",
       "      <td>GdWo</td>\n",
       "      <td>-1</td>\n",
       "      <td>WD</td>\n",
       "      <td>Abnorml</td>\n",
       "    </tr>\n",
       "    <tr>\n",
       "      <th>916</th>\n",
       "      <td>C (all)</td>\n",
       "      <td>Pave</td>\n",
       "      <td>-1</td>\n",
       "      <td>Reg</td>\n",
       "      <td>Lvl</td>\n",
       "      <td>AllPub</td>\n",
       "      <td>Inside</td>\n",
       "      <td>Gtl</td>\n",
       "      <td>IDOTRR</td>\n",
       "      <td>Norm</td>\n",
       "      <td>...</td>\n",
       "      <td>Detchd</td>\n",
       "      <td>Unf</td>\n",
       "      <td>TA</td>\n",
       "      <td>TA</td>\n",
       "      <td>Y</td>\n",
       "      <td>-1</td>\n",
       "      <td>-1</td>\n",
       "      <td>-1</td>\n",
       "      <td>WD</td>\n",
       "      <td>Abnorml</td>\n",
       "    </tr>\n",
       "    <tr>\n",
       "      <th>968</th>\n",
       "      <td>RM</td>\n",
       "      <td>Pave</td>\n",
       "      <td>-1</td>\n",
       "      <td>Reg</td>\n",
       "      <td>Lvl</td>\n",
       "      <td>AllPub</td>\n",
       "      <td>Inside</td>\n",
       "      <td>Gtl</td>\n",
       "      <td>OldTown</td>\n",
       "      <td>Norm</td>\n",
       "      <td>...</td>\n",
       "      <td>-1</td>\n",
       "      <td>-1</td>\n",
       "      <td>-1</td>\n",
       "      <td>-1</td>\n",
       "      <td>Y</td>\n",
       "      <td>-1</td>\n",
       "      <td>GdWo</td>\n",
       "      <td>-1</td>\n",
       "      <td>WD</td>\n",
       "      <td>Abnorml</td>\n",
       "    </tr>\n",
       "  </tbody>\n",
       "</table>\n",
       "<p>3 rows × 41 columns</p>\n",
       "</div>"
      ],
      "text/plain": [
       "    MSZoning Street Alley LotShape LandContour Utilities LotConfig LandSlope  \\\n",
       "495  C (all)   Pave    -1      Reg         Lvl    AllPub    Inside       Gtl   \n",
       "916  C (all)   Pave    -1      Reg         Lvl    AllPub    Inside       Gtl   \n",
       "968       RM   Pave    -1      Reg         Lvl    AllPub    Inside       Gtl   \n",
       "\n",
       "    Neighborhood Condition1  ... GarageType GarageFinish GarageQual  \\\n",
       "495       IDOTRR       Norm  ...         -1           -1         -1   \n",
       "916       IDOTRR       Norm  ...     Detchd          Unf         TA   \n",
       "968      OldTown       Norm  ...         -1           -1         -1   \n",
       "\n",
       "    GarageCond PavedDrive PoolQC Fence MiscFeature SaleType SaleCondition  \n",
       "495         -1          N     -1  GdWo          -1       WD       Abnorml  \n",
       "916         TA          Y     -1    -1          -1       WD       Abnorml  \n",
       "968         -1          Y     -1  GdWo          -1       WD       Abnorml  \n",
       "\n",
       "[3 rows x 41 columns]"
      ]
     },
     "execution_count": 22,
     "metadata": {},
     "output_type": "execute_result"
    }
   ],
   "source": [
    "baratas = treino.sort_values('SalePrice').head(10)\n",
    "baratas = baratas[obj_cols] \n",
    "baratas.head(3)"
   ]
  },
  {
   "cell_type": "markdown",
   "id": "14dbf2e2",
   "metadata": {},
   "source": [
    "### Analisando caracteristicas das casas caras e baratas\n",
    "- Retorna a quantidade de valores únicos de cada coluna. Ou seja, se na caterigoria do ar condicionado so tem um tipo para as casas caras (Yes), pode ser que esse valor da coluna esteja relacionado ao preço da casa."
   ]
  },
  {
   "cell_type": "code",
   "execution_count": null,
   "id": "ccd8b3ae",
   "metadata": {},
   "outputs": [],
   "source": []
  },
  {
   "cell_type": "code",
   "execution_count": 23,
   "id": "cab1ef3b",
   "metadata": {},
   "outputs": [
    {
     "data": {
      "text/plain": [
       "MSZoning        1\n",
       "Street          1\n",
       "Alley           1\n",
       "LotShape        3\n",
       "LandContour     2\n",
       "Utilities       1\n",
       "LotConfig       3\n",
       "LandSlope       2\n",
       "Neighborhood    3\n",
       "Condition1      1\n",
       "dtype: int64"
      ]
     },
     "execution_count": 23,
     "metadata": {},
     "output_type": "execute_result"
    }
   ],
   "source": [
    "caras_val = caras.nunique()\n",
    "caras_val.head(10)"
   ]
  },
  {
   "cell_type": "markdown",
   "id": "fa76ee7b",
   "metadata": {},
   "source": [
    "### Verificando agora para as casas mais baratas"
   ]
  },
  {
   "cell_type": "code",
   "execution_count": 24,
   "id": "dc66360a",
   "metadata": {},
   "outputs": [
    {
     "data": {
      "text/plain": [
       "MSZoning    3\n",
       "Street      2\n",
       "dtype: int64"
      ]
     },
     "execution_count": 24,
     "metadata": {},
     "output_type": "execute_result"
    }
   ],
   "source": [
    "baratas_val = baratas.nunique()\n",
    "baratas_val.head(2)"
   ]
  },
  {
   "cell_type": "markdown",
   "id": "9d2c9554",
   "metadata": {},
   "source": [
    "### Podemos unir esses valores\n",
    "- 0 e 1 sao casas caras e baratas"
   ]
  },
  {
   "cell_type": "code",
   "execution_count": 25,
   "id": "d89073a1",
   "metadata": {},
   "outputs": [
    {
     "data": {
      "text/html": [
       "<div>\n",
       "<style scoped>\n",
       "    .dataframe tbody tr th:only-of-type {\n",
       "        vertical-align: middle;\n",
       "    }\n",
       "\n",
       "    .dataframe tbody tr th {\n",
       "        vertical-align: top;\n",
       "    }\n",
       "\n",
       "    .dataframe thead th {\n",
       "        text-align: right;\n",
       "    }\n",
       "</style>\n",
       "<table border=\"1\" class=\"dataframe\">\n",
       "  <thead>\n",
       "    <tr style=\"text-align: right;\">\n",
       "      <th></th>\n",
       "      <th>0</th>\n",
       "      <th>1</th>\n",
       "    </tr>\n",
       "  </thead>\n",
       "  <tbody>\n",
       "    <tr>\n",
       "      <th>Utilities</th>\n",
       "      <td>1</td>\n",
       "      <td>1</td>\n",
       "    </tr>\n",
       "    <tr>\n",
       "      <th>Condition2</th>\n",
       "      <td>1</td>\n",
       "      <td>1</td>\n",
       "    </tr>\n",
       "    <tr>\n",
       "      <th>Street</th>\n",
       "      <td>1</td>\n",
       "      <td>2</td>\n",
       "    </tr>\n",
       "    <tr>\n",
       "      <th>Condition1</th>\n",
       "      <td>1</td>\n",
       "      <td>2</td>\n",
       "    </tr>\n",
       "    <tr>\n",
       "      <th>BldgType</th>\n",
       "      <td>1</td>\n",
       "      <td>2</td>\n",
       "    </tr>\n",
       "    <tr>\n",
       "      <th>Heating</th>\n",
       "      <td>1</td>\n",
       "      <td>2</td>\n",
       "    </tr>\n",
       "    <tr>\n",
       "      <th>CentralAir</th>\n",
       "      <td>1</td>\n",
       "      <td>2</td>\n",
       "    </tr>\n",
       "    <tr>\n",
       "      <th>GarageQual</th>\n",
       "      <td>1</td>\n",
       "      <td>2</td>\n",
       "    </tr>\n",
       "    <tr>\n",
       "      <th>PavedDrive</th>\n",
       "      <td>1</td>\n",
       "      <td>2</td>\n",
       "    </tr>\n",
       "    <tr>\n",
       "      <th>MSZoning</th>\n",
       "      <td>1</td>\n",
       "      <td>3</td>\n",
       "    </tr>\n",
       "  </tbody>\n",
       "</table>\n",
       "</div>"
      ],
      "text/plain": [
       "            0  1\n",
       "Utilities   1  1\n",
       "Condition2  1  1\n",
       "Street      1  2\n",
       "Condition1  1  2\n",
       "BldgType    1  2\n",
       "Heating     1  2\n",
       "CentralAir  1  2\n",
       "GarageQual  1  2\n",
       "PavedDrive  1  2\n",
       "MSZoning    1  3"
      ]
     },
     "execution_count": 25,
     "metadata": {},
     "output_type": "execute_result"
    }
   ],
   "source": [
    "rep = pd.concat([caras_val,baratas_val],axis=1).sort_values([0,1]).head(10)\n",
    "rep"
   ]
  },
  {
   "cell_type": "markdown",
   "id": "fc57cd1c",
   "metadata": {},
   "source": [
    "### Agora visualizando essas colunas para as casas mais caras"
   ]
  },
  {
   "cell_type": "code",
   "execution_count": 26,
   "id": "a65b47e0",
   "metadata": {},
   "outputs": [
    {
     "data": {
      "text/html": [
       "<div>\n",
       "<style scoped>\n",
       "    .dataframe tbody tr th:only-of-type {\n",
       "        vertical-align: middle;\n",
       "    }\n",
       "\n",
       "    .dataframe tbody tr th {\n",
       "        vertical-align: top;\n",
       "    }\n",
       "\n",
       "    .dataframe thead th {\n",
       "        text-align: right;\n",
       "    }\n",
       "</style>\n",
       "<table border=\"1\" class=\"dataframe\">\n",
       "  <thead>\n",
       "    <tr style=\"text-align: right;\">\n",
       "      <th></th>\n",
       "      <th>Utilities</th>\n",
       "      <th>Condition2</th>\n",
       "      <th>Street</th>\n",
       "      <th>Condition1</th>\n",
       "      <th>BldgType</th>\n",
       "      <th>Heating</th>\n",
       "      <th>CentralAir</th>\n",
       "      <th>GarageQual</th>\n",
       "      <th>PavedDrive</th>\n",
       "      <th>MSZoning</th>\n",
       "    </tr>\n",
       "  </thead>\n",
       "  <tbody>\n",
       "    <tr>\n",
       "      <th>798</th>\n",
       "      <td>AllPub</td>\n",
       "      <td>Norm</td>\n",
       "      <td>Pave</td>\n",
       "      <td>Norm</td>\n",
       "      <td>1Fam</td>\n",
       "      <td>GasA</td>\n",
       "      <td>Y</td>\n",
       "      <td>TA</td>\n",
       "      <td>Y</td>\n",
       "      <td>RL</td>\n",
       "    </tr>\n",
       "    <tr>\n",
       "      <th>178</th>\n",
       "      <td>AllPub</td>\n",
       "      <td>Norm</td>\n",
       "      <td>Pave</td>\n",
       "      <td>Norm</td>\n",
       "      <td>1Fam</td>\n",
       "      <td>GasA</td>\n",
       "      <td>Y</td>\n",
       "      <td>TA</td>\n",
       "      <td>Y</td>\n",
       "      <td>RL</td>\n",
       "    </tr>\n",
       "    <tr>\n",
       "      <th>769</th>\n",
       "      <td>AllPub</td>\n",
       "      <td>Norm</td>\n",
       "      <td>Pave</td>\n",
       "      <td>Norm</td>\n",
       "      <td>1Fam</td>\n",
       "      <td>GasA</td>\n",
       "      <td>Y</td>\n",
       "      <td>TA</td>\n",
       "      <td>Y</td>\n",
       "      <td>RL</td>\n",
       "    </tr>\n",
       "    <tr>\n",
       "      <th>440</th>\n",
       "      <td>AllPub</td>\n",
       "      <td>Norm</td>\n",
       "      <td>Pave</td>\n",
       "      <td>Norm</td>\n",
       "      <td>1Fam</td>\n",
       "      <td>GasA</td>\n",
       "      <td>Y</td>\n",
       "      <td>TA</td>\n",
       "      <td>Y</td>\n",
       "      <td>RL</td>\n",
       "    </tr>\n",
       "    <tr>\n",
       "      <th>1046</th>\n",
       "      <td>AllPub</td>\n",
       "      <td>Norm</td>\n",
       "      <td>Pave</td>\n",
       "      <td>Norm</td>\n",
       "      <td>1Fam</td>\n",
       "      <td>GasA</td>\n",
       "      <td>Y</td>\n",
       "      <td>TA</td>\n",
       "      <td>Y</td>\n",
       "      <td>RL</td>\n",
       "    </tr>\n",
       "    <tr>\n",
       "      <th>803</th>\n",
       "      <td>AllPub</td>\n",
       "      <td>Norm</td>\n",
       "      <td>Pave</td>\n",
       "      <td>Norm</td>\n",
       "      <td>1Fam</td>\n",
       "      <td>GasA</td>\n",
       "      <td>Y</td>\n",
       "      <td>TA</td>\n",
       "      <td>Y</td>\n",
       "      <td>RL</td>\n",
       "    </tr>\n",
       "    <tr>\n",
       "      <th>898</th>\n",
       "      <td>AllPub</td>\n",
       "      <td>Norm</td>\n",
       "      <td>Pave</td>\n",
       "      <td>Norm</td>\n",
       "      <td>1Fam</td>\n",
       "      <td>GasA</td>\n",
       "      <td>Y</td>\n",
       "      <td>TA</td>\n",
       "      <td>Y</td>\n",
       "      <td>RL</td>\n",
       "    </tr>\n",
       "    <tr>\n",
       "      <th>1169</th>\n",
       "      <td>AllPub</td>\n",
       "      <td>Norm</td>\n",
       "      <td>Pave</td>\n",
       "      <td>Norm</td>\n",
       "      <td>1Fam</td>\n",
       "      <td>GasA</td>\n",
       "      <td>Y</td>\n",
       "      <td>TA</td>\n",
       "      <td>Y</td>\n",
       "      <td>RL</td>\n",
       "    </tr>\n",
       "    <tr>\n",
       "      <th>1182</th>\n",
       "      <td>AllPub</td>\n",
       "      <td>Norm</td>\n",
       "      <td>Pave</td>\n",
       "      <td>Norm</td>\n",
       "      <td>1Fam</td>\n",
       "      <td>GasA</td>\n",
       "      <td>Y</td>\n",
       "      <td>TA</td>\n",
       "      <td>Y</td>\n",
       "      <td>RL</td>\n",
       "    </tr>\n",
       "    <tr>\n",
       "      <th>691</th>\n",
       "      <td>AllPub</td>\n",
       "      <td>Norm</td>\n",
       "      <td>Pave</td>\n",
       "      <td>Norm</td>\n",
       "      <td>1Fam</td>\n",
       "      <td>GasA</td>\n",
       "      <td>Y</td>\n",
       "      <td>TA</td>\n",
       "      <td>Y</td>\n",
       "      <td>RL</td>\n",
       "    </tr>\n",
       "  </tbody>\n",
       "</table>\n",
       "</div>"
      ],
      "text/plain": [
       "     Utilities Condition2 Street Condition1 BldgType Heating CentralAir  \\\n",
       "798     AllPub       Norm   Pave       Norm     1Fam    GasA          Y   \n",
       "178     AllPub       Norm   Pave       Norm     1Fam    GasA          Y   \n",
       "769     AllPub       Norm   Pave       Norm     1Fam    GasA          Y   \n",
       "440     AllPub       Norm   Pave       Norm     1Fam    GasA          Y   \n",
       "1046    AllPub       Norm   Pave       Norm     1Fam    GasA          Y   \n",
       "803     AllPub       Norm   Pave       Norm     1Fam    GasA          Y   \n",
       "898     AllPub       Norm   Pave       Norm     1Fam    GasA          Y   \n",
       "1169    AllPub       Norm   Pave       Norm     1Fam    GasA          Y   \n",
       "1182    AllPub       Norm   Pave       Norm     1Fam    GasA          Y   \n",
       "691     AllPub       Norm   Pave       Norm     1Fam    GasA          Y   \n",
       "\n",
       "     GarageQual PavedDrive MSZoning  \n",
       "798          TA          Y       RL  \n",
       "178          TA          Y       RL  \n",
       "769          TA          Y       RL  \n",
       "440          TA          Y       RL  \n",
       "1046         TA          Y       RL  \n",
       "803          TA          Y       RL  \n",
       "898          TA          Y       RL  \n",
       "1169         TA          Y       RL  \n",
       "1182         TA          Y       RL  \n",
       "691          TA          Y       RL  "
      ]
     },
     "execution_count": 26,
     "metadata": {},
     "output_type": "execute_result"
    }
   ],
   "source": [
    "caras[rep.index]"
   ]
  },
  {
   "cell_type": "markdown",
   "id": "5009a46d",
   "metadata": {},
   "source": [
    "### E para as mais baratas"
   ]
  },
  {
   "cell_type": "code",
   "execution_count": 27,
   "id": "d79a274a",
   "metadata": {},
   "outputs": [
    {
     "data": {
      "text/html": [
       "<div>\n",
       "<style scoped>\n",
       "    .dataframe tbody tr th:only-of-type {\n",
       "        vertical-align: middle;\n",
       "    }\n",
       "\n",
       "    .dataframe tbody tr th {\n",
       "        vertical-align: top;\n",
       "    }\n",
       "\n",
       "    .dataframe thead th {\n",
       "        text-align: right;\n",
       "    }\n",
       "</style>\n",
       "<table border=\"1\" class=\"dataframe\">\n",
       "  <thead>\n",
       "    <tr style=\"text-align: right;\">\n",
       "      <th></th>\n",
       "      <th>Utilities</th>\n",
       "      <th>Condition2</th>\n",
       "      <th>Street</th>\n",
       "      <th>Condition1</th>\n",
       "      <th>BldgType</th>\n",
       "      <th>Heating</th>\n",
       "      <th>CentralAir</th>\n",
       "      <th>GarageQual</th>\n",
       "      <th>PavedDrive</th>\n",
       "      <th>MSZoning</th>\n",
       "    </tr>\n",
       "  </thead>\n",
       "  <tbody>\n",
       "    <tr>\n",
       "      <th>495</th>\n",
       "      <td>AllPub</td>\n",
       "      <td>Norm</td>\n",
       "      <td>Pave</td>\n",
       "      <td>Norm</td>\n",
       "      <td>1Fam</td>\n",
       "      <td>GasA</td>\n",
       "      <td>N</td>\n",
       "      <td>-1</td>\n",
       "      <td>N</td>\n",
       "      <td>C (all)</td>\n",
       "    </tr>\n",
       "    <tr>\n",
       "      <th>916</th>\n",
       "      <td>AllPub</td>\n",
       "      <td>Norm</td>\n",
       "      <td>Pave</td>\n",
       "      <td>Norm</td>\n",
       "      <td>1Fam</td>\n",
       "      <td>GasA</td>\n",
       "      <td>N</td>\n",
       "      <td>TA</td>\n",
       "      <td>Y</td>\n",
       "      <td>C (all)</td>\n",
       "    </tr>\n",
       "    <tr>\n",
       "      <th>968</th>\n",
       "      <td>AllPub</td>\n",
       "      <td>Norm</td>\n",
       "      <td>Pave</td>\n",
       "      <td>Norm</td>\n",
       "      <td>1Fam</td>\n",
       "      <td>Grav</td>\n",
       "      <td>N</td>\n",
       "      <td>-1</td>\n",
       "      <td>Y</td>\n",
       "      <td>RM</td>\n",
       "    </tr>\n",
       "    <tr>\n",
       "      <th>533</th>\n",
       "      <td>AllPub</td>\n",
       "      <td>Norm</td>\n",
       "      <td>Pave</td>\n",
       "      <td>Norm</td>\n",
       "      <td>1Fam</td>\n",
       "      <td>GasA</td>\n",
       "      <td>N</td>\n",
       "      <td>-1</td>\n",
       "      <td>N</td>\n",
       "      <td>RL</td>\n",
       "    </tr>\n",
       "    <tr>\n",
       "      <th>30</th>\n",
       "      <td>AllPub</td>\n",
       "      <td>Norm</td>\n",
       "      <td>Pave</td>\n",
       "      <td>Feedr</td>\n",
       "      <td>1Fam</td>\n",
       "      <td>GasA</td>\n",
       "      <td>N</td>\n",
       "      <td>TA</td>\n",
       "      <td>N</td>\n",
       "      <td>C (all)</td>\n",
       "    </tr>\n",
       "    <tr>\n",
       "      <th>710</th>\n",
       "      <td>AllPub</td>\n",
       "      <td>Norm</td>\n",
       "      <td>Pave</td>\n",
       "      <td>Norm</td>\n",
       "      <td>1Fam</td>\n",
       "      <td>GasA</td>\n",
       "      <td>Y</td>\n",
       "      <td>-1</td>\n",
       "      <td>N</td>\n",
       "      <td>RL</td>\n",
       "    </tr>\n",
       "    <tr>\n",
       "      <th>1337</th>\n",
       "      <td>AllPub</td>\n",
       "      <td>Norm</td>\n",
       "      <td>Pave</td>\n",
       "      <td>Feedr</td>\n",
       "      <td>1Fam</td>\n",
       "      <td>Grav</td>\n",
       "      <td>N</td>\n",
       "      <td>-1</td>\n",
       "      <td>N</td>\n",
       "      <td>RM</td>\n",
       "    </tr>\n",
       "    <tr>\n",
       "      <th>705</th>\n",
       "      <td>AllPub</td>\n",
       "      <td>Norm</td>\n",
       "      <td>Pave</td>\n",
       "      <td>Norm</td>\n",
       "      <td>2fmCon</td>\n",
       "      <td>GasA</td>\n",
       "      <td>N</td>\n",
       "      <td>-1</td>\n",
       "      <td>N</td>\n",
       "      <td>RM</td>\n",
       "    </tr>\n",
       "    <tr>\n",
       "      <th>1325</th>\n",
       "      <td>AllPub</td>\n",
       "      <td>Norm</td>\n",
       "      <td>Pave</td>\n",
       "      <td>Norm</td>\n",
       "      <td>1Fam</td>\n",
       "      <td>GasA</td>\n",
       "      <td>N</td>\n",
       "      <td>-1</td>\n",
       "      <td>N</td>\n",
       "      <td>RM</td>\n",
       "    </tr>\n",
       "    <tr>\n",
       "      <th>812</th>\n",
       "      <td>AllPub</td>\n",
       "      <td>Norm</td>\n",
       "      <td>Grvl</td>\n",
       "      <td>Norm</td>\n",
       "      <td>1Fam</td>\n",
       "      <td>GasA</td>\n",
       "      <td>N</td>\n",
       "      <td>TA</td>\n",
       "      <td>N</td>\n",
       "      <td>C (all)</td>\n",
       "    </tr>\n",
       "  </tbody>\n",
       "</table>\n",
       "</div>"
      ],
      "text/plain": [
       "     Utilities Condition2 Street Condition1 BldgType Heating CentralAir  \\\n",
       "495     AllPub       Norm   Pave       Norm     1Fam    GasA          N   \n",
       "916     AllPub       Norm   Pave       Norm     1Fam    GasA          N   \n",
       "968     AllPub       Norm   Pave       Norm     1Fam    Grav          N   \n",
       "533     AllPub       Norm   Pave       Norm     1Fam    GasA          N   \n",
       "30      AllPub       Norm   Pave      Feedr     1Fam    GasA          N   \n",
       "710     AllPub       Norm   Pave       Norm     1Fam    GasA          Y   \n",
       "1337    AllPub       Norm   Pave      Feedr     1Fam    Grav          N   \n",
       "705     AllPub       Norm   Pave       Norm   2fmCon    GasA          N   \n",
       "1325    AllPub       Norm   Pave       Norm     1Fam    GasA          N   \n",
       "812     AllPub       Norm   Grvl       Norm     1Fam    GasA          N   \n",
       "\n",
       "     GarageQual PavedDrive MSZoning  \n",
       "495          -1          N  C (all)  \n",
       "916          TA          Y  C (all)  \n",
       "968          -1          Y       RM  \n",
       "533          -1          N       RL  \n",
       "30           TA          N  C (all)  \n",
       "710          -1          N       RL  \n",
       "1337         -1          N       RM  \n",
       "705          -1          N       RM  \n",
       "1325         -1          N       RM  \n",
       "812          TA          N  C (all)  "
      ]
     },
     "execution_count": 27,
     "metadata": {},
     "output_type": "execute_result"
    }
   ],
   "source": [
    "baratas[rep.index]"
   ]
  },
  {
   "cell_type": "markdown",
   "id": "8e0f77e5",
   "metadata": {},
   "source": [
    "#### Podemos assim, entender que dentre as casas mais caras, todas tem CentralAir e PavedDrive\n",
    "\n",
    "#### Dentre as casas mais baratas, nenhuma tem CentralAir e poucas tem PavedDrive"
   ]
  },
  {
   "cell_type": "code",
   "execution_count": null,
   "id": "340fcaf4",
   "metadata": {},
   "outputs": [],
   "source": []
  },
  {
   "cell_type": "code",
   "execution_count": null,
   "id": "24bcc136",
   "metadata": {},
   "outputs": [],
   "source": []
  },
  {
   "cell_type": "markdown",
   "id": "2cdf8cba",
   "metadata": {},
   "source": [
    "\n",
    "## Agora podemos investigar melhor essas principais colunas\n"
   ]
  },
  {
   "cell_type": "markdown",
   "id": "89c332af",
   "metadata": {},
   "source": [
    "## Coluna CentralAir\n",
    "    "
   ]
  },
  {
   "cell_type": "code",
   "execution_count": 28,
   "id": "c0270bb0",
   "metadata": {},
   "outputs": [
    {
     "data": {
      "text/plain": [
       "CentralAir\n",
       "Y    1365\n",
       "N      95\n",
       "Name: count, dtype: int64"
      ]
     },
     "execution_count": 28,
     "metadata": {},
     "output_type": "execute_result"
    }
   ],
   "source": [
    "# Verificando os valores nessa coluna\n",
    "treino.CentralAir.value_counts()"
   ]
  },
  {
   "cell_type": "markdown",
   "id": "6c1c2420",
   "metadata": {},
   "source": [
    "### Visualizando a relação com o preço"
   ]
  },
  {
   "cell_type": "code",
   "execution_count": 29,
   "id": "a6d0433b",
   "metadata": {},
   "outputs": [
    {
     "data": {
      "image/png": "[encoded data removed]",
      "text/plain": [
       "<Figure size 1500x500 with 2 Axes>"
      ]
     },
     "metadata": {},
     "output_type": "display_data"
    }
   ],
   "source": [
    "fig, ax = plt.subplots(ncols=2,figsize=(15,5))\n",
    "\n",
    "sns.boxplot(x=treino.CentralAir,y=treino.SalePrice,ax=ax[0])\n",
    "sns.kdeplot(x=treino.SalePrice,hue=treino.CentralAir,ax=ax[1])\n",
    "\n",
    "plt.show()"
   ]
  },
  {
   "cell_type": "markdown",
   "id": "f1fcf094",
   "metadata": {},
   "source": [
    "- O valor \"N\", apesar de não ser um valor tão frequente, aparecer na maioria das casas de menor valor, é uma coluna relevante"
   ]
  },
  {
   "cell_type": "code",
   "execution_count": null,
   "id": "26a206d6",
   "metadata": {},
   "outputs": [],
   "source": []
  },
  {
   "cell_type": "markdown",
   "id": "6bf422a2",
   "metadata": {},
   "source": [
    "## Coluna PavedDrive"
   ]
  },
  {
   "cell_type": "code",
   "execution_count": 30,
   "id": "2c14dc8a",
   "metadata": {},
   "outputs": [
    {
     "data": {
      "text/plain": [
       "PavedDrive\n",
       "Y    1340\n",
       "N      90\n",
       "P      30\n",
       "Name: count, dtype: int64"
      ]
     },
     "execution_count": 30,
     "metadata": {},
     "output_type": "execute_result"
    }
   ],
   "source": [
    "# Verificando os valores nessa coluna\n",
    "treino.PavedDrive.value_counts()"
   ]
  },
  {
   "cell_type": "markdown",
   "id": "a904b361",
   "metadata": {},
   "source": [
    "### Verificando a relação desses valores com o preço da casa"
   ]
  },
  {
   "cell_type": "code",
   "execution_count": 31,
   "id": "2f0fa564",
   "metadata": {},
   "outputs": [
    {
     "data": {
      "image/png": "[encoded data removed]",
      "text/plain": [
       "<Figure size 1500x500 with 2 Axes>"
      ]
     },
     "metadata": {},
     "output_type": "display_data"
    }
   ],
   "source": [
    "\n",
    "fig, ax = plt.subplots(ncols=2,figsize=(15,5))\n",
    "\n",
    "sns.boxplot(x=treino['PavedDrive'],y=treino.SalePrice,ax=ax[0])\n",
    "sns.kdeplot(x=treino.SalePrice,hue=treino['PavedDrive'],ax=ax[1])\n",
    "\n",
    "plt.show()"
   ]
  },
  {
   "cell_type": "markdown",
   "id": "dfa09249",
   "metadata": {},
   "source": [
    "- Notamos tambem que **PavedDrive** é uma coluna importante: Quando a rua tende a ser pavimentada, o valor da casa tende a ser mais alto"
   ]
  },
  {
   "cell_type": "code",
   "execution_count": null,
   "id": "01017e7b",
   "metadata": {},
   "outputs": [],
   "source": []
  },
  {
   "cell_type": "markdown",
   "id": "87f96376",
   "metadata": {},
   "source": [
    "## Coluna MSZoning"
   ]
  },
  {
   "cell_type": "code",
   "execution_count": 32,
   "id": "2e1d0cc5",
   "metadata": {},
   "outputs": [
    {
     "data": {
      "text/plain": [
       "MSZoning\n",
       "RL         1151\n",
       "RM          218\n",
       "FV           65\n",
       "RH           16\n",
       "C (all)      10\n",
       "Name: count, dtype: int64"
      ]
     },
     "execution_count": 32,
     "metadata": {},
     "output_type": "execute_result"
    }
   ],
   "source": [
    "# Entendendo a distribuição\n",
    "treino[\"MSZoning\"].value_counts()"
   ]
  },
  {
   "cell_type": "markdown",
   "id": "837d4c96",
   "metadata": {},
   "source": [
    "### Fazendo um groupby desses dados para ver a média de acordo com as categorias"
   ]
  },
  {
   "cell_type": "code",
   "execution_count": 33,
   "id": "fbf00381",
   "metadata": {},
   "outputs": [
    {
     "data": {
      "text/plain": [
       "MSZoning\n",
       "C (all)     74528.000000\n",
       "FV         214014.061538\n",
       "RH         131558.375000\n",
       "RL         191004.994787\n",
       "RM         126316.830275\n",
       "Name: SalePrice, dtype: float64"
      ]
     },
     "execution_count": 33,
     "metadata": {},
     "output_type": "execute_result"
    }
   ],
   "source": [
    "treino.groupby('MSZoning')['SalePrice'].mean()"
   ]
  },
  {
   "cell_type": "markdown",
   "id": "7f482f59",
   "metadata": {},
   "source": [
    "### Visualizando a distribuição desses valores"
   ]
  },
  {
   "cell_type": "code",
   "execution_count": 34,
   "id": "64430217",
   "metadata": {},
   "outputs": [
    {
     "data": {
      "image/png": "[encoded data removed]",
      "text/plain": [
       "<Figure size 1500x500 with 2 Axes>"
      ]
     },
     "metadata": {},
     "output_type": "display_data"
    }
   ],
   "source": [
    "fig, ax = plt.subplots(ncols=2,figsize=(15,5))\n",
    "\n",
    "sns.boxplot(x=treino['MSZoning'],y=treino.SalePrice,ax=ax[0])\n",
    "sns.kdeplot(x=treino.SalePrice,hue=treino['MSZoning'],ax=ax[1])\n",
    "\n",
    "plt.show()"
   ]
  },
  {
   "cell_type": "markdown",
   "id": "0364d0cd",
   "metadata": {},
   "source": [
    "- Notamos uma clara diferença entre os preços de cada categoria. É uma coluna importante"
   ]
  },
  {
   "cell_type": "code",
   "execution_count": null,
   "id": "716b98b9",
   "metadata": {},
   "outputs": [],
   "source": []
  },
  {
   "cell_type": "code",
   "execution_count": null,
   "id": "e78509af",
   "metadata": {},
   "outputs": [],
   "source": []
  },
  {
   "cell_type": "markdown",
   "id": "b6936c14",
   "metadata": {},
   "source": [
    "### Transformando essas colunas importantes em colunas numericas com OneHotEncoder\n",
    "\n",
    "- CentralAir, PavedDrive e MSZoning"
   ]
  },
  {
   "cell_type": "code",
   "execution_count": 35,
   "id": "9dda84a5",
   "metadata": {},
   "outputs": [],
   "source": [
    "from sklearn.preprocessing import OneHotEncoder"
   ]
  },
  {
   "cell_type": "code",
   "execution_count": 36,
   "id": "5e5b0a3a",
   "metadata": {},
   "outputs": [],
   "source": [
    "# Criando o encoder para essa coluna\n",
    "ohe_MSZoning = OneHotEncoder(handle_unknown='ignore')"
   ]
  },
  {
   "cell_type": "code",
   "execution_count": 37,
   "id": "e380dfcb",
   "metadata": {},
   "outputs": [],
   "source": [
    "# Fazendo o fit com os dados\n",
    "ohe_MSZoning = ohe_MSZoning.fit(treino[[\"CentralAir\", \"PavedDrive\", 'MSZoning']])"
   ]
  },
  {
   "cell_type": "code",
   "execution_count": 38,
   "id": "2d70fb7b",
   "metadata": {},
   "outputs": [
    {
     "data": {
      "text/plain": [
       "array([[0., 1., 0., ..., 0., 1., 0.],\n",
       "       [0., 1., 0., ..., 0., 1., 0.],\n",
       "       [0., 1., 0., ..., 0., 1., 0.],\n",
       "       ...,\n",
       "       [0., 1., 0., ..., 0., 1., 0.],\n",
       "       [0., 1., 0., ..., 0., 1., 0.],\n",
       "       [0., 1., 0., ..., 0., 1., 0.]])"
      ]
     },
     "execution_count": 38,
     "metadata": {},
     "output_type": "execute_result"
    }
   ],
   "source": [
    "#Transform\n",
    "ohe_MSZoning.transform(treino[[\"CentralAir\", \"PavedDrive\", 'MSZoning']]).toarray()"
   ]
  },
  {
   "cell_type": "code",
   "execution_count": 39,
   "id": "d23305c6",
   "metadata": {},
   "outputs": [],
   "source": [
    "# Podemos transformar isso em um DataFrame do pandas\n",
    "ohe_MSZoning_df = pd.DataFrame(ohe_MSZoning.transform(treino[[\"CentralAir\", \"PavedDrive\", 'MSZoning']]).toarray(),\n",
    "                              columns=ohe_MSZoning.get_feature_names_out())"
   ]
  },
  {
   "cell_type": "code",
   "execution_count": 40,
   "id": "246d72aa",
   "metadata": {},
   "outputs": [],
   "source": [
    "# Unindo essa coluna com a base\n",
    "treino = pd.concat([treino,ohe_MSZoning_df],axis=1)"
   ]
  },
  {
   "cell_type": "code",
   "execution_count": 41,
   "id": "9a9b8db1",
   "metadata": {},
   "outputs": [],
   "source": [
    "# Eliminando as colunas \n",
    "treino = treino.drop([\"CentralAir\", \"PavedDrive\", 'MSZoning'],axis=1)"
   ]
  },
  {
   "cell_type": "code",
   "execution_count": 42,
   "id": "c5981708",
   "metadata": {
    "scrolled": false
   },
   "outputs": [
    {
     "data": {
      "text/html": [
       "<div>\n",
       "<style scoped>\n",
       "    .dataframe tbody tr th:only-of-type {\n",
       "        vertical-align: middle;\n",
       "    }\n",
       "\n",
       "    .dataframe tbody tr th {\n",
       "        vertical-align: top;\n",
       "    }\n",
       "\n",
       "    .dataframe thead th {\n",
       "        text-align: right;\n",
       "    }\n",
       "</style>\n",
       "<table border=\"1\" class=\"dataframe\">\n",
       "  <thead>\n",
       "    <tr style=\"text-align: right;\">\n",
       "      <th></th>\n",
       "      <th>Id</th>\n",
       "      <th>MSSubClass</th>\n",
       "      <th>LotArea</th>\n",
       "      <th>Street</th>\n",
       "      <th>Alley</th>\n",
       "      <th>LotShape</th>\n",
       "      <th>LandContour</th>\n",
       "      <th>Utilities</th>\n",
       "      <th>LotConfig</th>\n",
       "      <th>LandSlope</th>\n",
       "      <th>...</th>\n",
       "      <th>CentralAir_N</th>\n",
       "      <th>CentralAir_Y</th>\n",
       "      <th>PavedDrive_N</th>\n",
       "      <th>PavedDrive_P</th>\n",
       "      <th>PavedDrive_Y</th>\n",
       "      <th>MSZoning_C (all)</th>\n",
       "      <th>MSZoning_FV</th>\n",
       "      <th>MSZoning_RH</th>\n",
       "      <th>MSZoning_RL</th>\n",
       "      <th>MSZoning_RM</th>\n",
       "    </tr>\n",
       "  </thead>\n",
       "  <tbody>\n",
       "    <tr>\n",
       "      <th>0</th>\n",
       "      <td>1</td>\n",
       "      <td>60</td>\n",
       "      <td>8450</td>\n",
       "      <td>Pave</td>\n",
       "      <td>-1</td>\n",
       "      <td>Reg</td>\n",
       "      <td>Lvl</td>\n",
       "      <td>AllPub</td>\n",
       "      <td>Inside</td>\n",
       "      <td>Gtl</td>\n",
       "      <td>...</td>\n",
       "      <td>0.0</td>\n",
       "      <td>1.0</td>\n",
       "      <td>0.0</td>\n",
       "      <td>0.0</td>\n",
       "      <td>1.0</td>\n",
       "      <td>0.0</td>\n",
       "      <td>0.0</td>\n",
       "      <td>0.0</td>\n",
       "      <td>1.0</td>\n",
       "      <td>0.0</td>\n",
       "    </tr>\n",
       "    <tr>\n",
       "      <th>1</th>\n",
       "      <td>2</td>\n",
       "      <td>20</td>\n",
       "      <td>9600</td>\n",
       "      <td>Pave</td>\n",
       "      <td>-1</td>\n",
       "      <td>Reg</td>\n",
       "      <td>Lvl</td>\n",
       "      <td>AllPub</td>\n",
       "      <td>FR2</td>\n",
       "      <td>Gtl</td>\n",
       "      <td>...</td>\n",
       "      <td>0.0</td>\n",
       "      <td>1.0</td>\n",
       "      <td>0.0</td>\n",
       "      <td>0.0</td>\n",
       "      <td>1.0</td>\n",
       "      <td>0.0</td>\n",
       "      <td>0.0</td>\n",
       "      <td>0.0</td>\n",
       "      <td>1.0</td>\n",
       "      <td>0.0</td>\n",
       "    </tr>\n",
       "    <tr>\n",
       "      <th>2</th>\n",
       "      <td>3</td>\n",
       "      <td>60</td>\n",
       "      <td>11250</td>\n",
       "      <td>Pave</td>\n",
       "      <td>-1</td>\n",
       "      <td>IR1</td>\n",
       "      <td>Lvl</td>\n",
       "      <td>AllPub</td>\n",
       "      <td>Inside</td>\n",
       "      <td>Gtl</td>\n",
       "      <td>...</td>\n",
       "      <td>0.0</td>\n",
       "      <td>1.0</td>\n",
       "      <td>0.0</td>\n",
       "      <td>0.0</td>\n",
       "      <td>1.0</td>\n",
       "      <td>0.0</td>\n",
       "      <td>0.0</td>\n",
       "      <td>0.0</td>\n",
       "      <td>1.0</td>\n",
       "      <td>0.0</td>\n",
       "    </tr>\n",
       "    <tr>\n",
       "      <th>3</th>\n",
       "      <td>4</td>\n",
       "      <td>70</td>\n",
       "      <td>9550</td>\n",
       "      <td>Pave</td>\n",
       "      <td>-1</td>\n",
       "      <td>IR1</td>\n",
       "      <td>Lvl</td>\n",
       "      <td>AllPub</td>\n",
       "      <td>Corner</td>\n",
       "      <td>Gtl</td>\n",
       "      <td>...</td>\n",
       "      <td>0.0</td>\n",
       "      <td>1.0</td>\n",
       "      <td>0.0</td>\n",
       "      <td>0.0</td>\n",
       "      <td>1.0</td>\n",
       "      <td>0.0</td>\n",
       "      <td>0.0</td>\n",
       "      <td>0.0</td>\n",
       "      <td>1.0</td>\n",
       "      <td>0.0</td>\n",
       "    </tr>\n",
       "    <tr>\n",
       "      <th>4</th>\n",
       "      <td>5</td>\n",
       "      <td>60</td>\n",
       "      <td>14260</td>\n",
       "      <td>Pave</td>\n",
       "      <td>-1</td>\n",
       "      <td>IR1</td>\n",
       "      <td>Lvl</td>\n",
       "      <td>AllPub</td>\n",
       "      <td>FR2</td>\n",
       "      <td>Gtl</td>\n",
       "      <td>...</td>\n",
       "      <td>0.0</td>\n",
       "      <td>1.0</td>\n",
       "      <td>0.0</td>\n",
       "      <td>0.0</td>\n",
       "      <td>1.0</td>\n",
       "      <td>0.0</td>\n",
       "      <td>0.0</td>\n",
       "      <td>0.0</td>\n",
       "      <td>1.0</td>\n",
       "      <td>0.0</td>\n",
       "    </tr>\n",
       "    <tr>\n",
       "      <th>5</th>\n",
       "      <td>6</td>\n",
       "      <td>50</td>\n",
       "      <td>14115</td>\n",
       "      <td>Pave</td>\n",
       "      <td>-1</td>\n",
       "      <td>IR1</td>\n",
       "      <td>Lvl</td>\n",
       "      <td>AllPub</td>\n",
       "      <td>Inside</td>\n",
       "      <td>Gtl</td>\n",
       "      <td>...</td>\n",
       "      <td>0.0</td>\n",
       "      <td>1.0</td>\n",
       "      <td>0.0</td>\n",
       "      <td>0.0</td>\n",
       "      <td>1.0</td>\n",
       "      <td>0.0</td>\n",
       "      <td>0.0</td>\n",
       "      <td>0.0</td>\n",
       "      <td>1.0</td>\n",
       "      <td>0.0</td>\n",
       "    </tr>\n",
       "    <tr>\n",
       "      <th>6</th>\n",
       "      <td>7</td>\n",
       "      <td>20</td>\n",
       "      <td>10084</td>\n",
       "      <td>Pave</td>\n",
       "      <td>-1</td>\n",
       "      <td>Reg</td>\n",
       "      <td>Lvl</td>\n",
       "      <td>AllPub</td>\n",
       "      <td>Inside</td>\n",
       "      <td>Gtl</td>\n",
       "      <td>...</td>\n",
       "      <td>0.0</td>\n",
       "      <td>1.0</td>\n",
       "      <td>0.0</td>\n",
       "      <td>0.0</td>\n",
       "      <td>1.0</td>\n",
       "      <td>0.0</td>\n",
       "      <td>0.0</td>\n",
       "      <td>0.0</td>\n",
       "      <td>1.0</td>\n",
       "      <td>0.0</td>\n",
       "    </tr>\n",
       "    <tr>\n",
       "      <th>7</th>\n",
       "      <td>8</td>\n",
       "      <td>60</td>\n",
       "      <td>10382</td>\n",
       "      <td>Pave</td>\n",
       "      <td>-1</td>\n",
       "      <td>IR1</td>\n",
       "      <td>Lvl</td>\n",
       "      <td>AllPub</td>\n",
       "      <td>Corner</td>\n",
       "      <td>Gtl</td>\n",
       "      <td>...</td>\n",
       "      <td>0.0</td>\n",
       "      <td>1.0</td>\n",
       "      <td>0.0</td>\n",
       "      <td>0.0</td>\n",
       "      <td>1.0</td>\n",
       "      <td>0.0</td>\n",
       "      <td>0.0</td>\n",
       "      <td>0.0</td>\n",
       "      <td>1.0</td>\n",
       "      <td>0.0</td>\n",
       "    </tr>\n",
       "    <tr>\n",
       "      <th>8</th>\n",
       "      <td>9</td>\n",
       "      <td>50</td>\n",
       "      <td>6120</td>\n",
       "      <td>Pave</td>\n",
       "      <td>-1</td>\n",
       "      <td>Reg</td>\n",
       "      <td>Lvl</td>\n",
       "      <td>AllPub</td>\n",
       "      <td>Inside</td>\n",
       "      <td>Gtl</td>\n",
       "      <td>...</td>\n",
       "      <td>0.0</td>\n",
       "      <td>1.0</td>\n",
       "      <td>0.0</td>\n",
       "      <td>0.0</td>\n",
       "      <td>1.0</td>\n",
       "      <td>0.0</td>\n",
       "      <td>0.0</td>\n",
       "      <td>0.0</td>\n",
       "      <td>0.0</td>\n",
       "      <td>1.0</td>\n",
       "    </tr>\n",
       "    <tr>\n",
       "      <th>9</th>\n",
       "      <td>10</td>\n",
       "      <td>190</td>\n",
       "      <td>7420</td>\n",
       "      <td>Pave</td>\n",
       "      <td>-1</td>\n",
       "      <td>Reg</td>\n",
       "      <td>Lvl</td>\n",
       "      <td>AllPub</td>\n",
       "      <td>Corner</td>\n",
       "      <td>Gtl</td>\n",
       "      <td>...</td>\n",
       "      <td>0.0</td>\n",
       "      <td>1.0</td>\n",
       "      <td>0.0</td>\n",
       "      <td>0.0</td>\n",
       "      <td>1.0</td>\n",
       "      <td>0.0</td>\n",
       "      <td>0.0</td>\n",
       "      <td>0.0</td>\n",
       "      <td>1.0</td>\n",
       "      <td>0.0</td>\n",
       "    </tr>\n",
       "  </tbody>\n",
       "</table>\n",
       "<p>10 rows × 85 columns</p>\n",
       "</div>"
      ],
      "text/plain": [
       "   Id  MSSubClass  LotArea Street Alley LotShape LandContour Utilities  \\\n",
       "0   1          60     8450   Pave    -1      Reg         Lvl    AllPub   \n",
       "1   2          20     9600   Pave    -1      Reg         Lvl    AllPub   \n",
       "2   3          60    11250   Pave    -1      IR1         Lvl    AllPub   \n",
       "3   4          70     9550   Pave    -1      IR1         Lvl    AllPub   \n",
       "4   5          60    14260   Pave    -1      IR1         Lvl    AllPub   \n",
       "5   6          50    14115   Pave    -1      IR1         Lvl    AllPub   \n",
       "6   7          20    10084   Pave    -1      Reg         Lvl    AllPub   \n",
       "7   8          60    10382   Pave    -1      IR1         Lvl    AllPub   \n",
       "8   9          50     6120   Pave    -1      Reg         Lvl    AllPub   \n",
       "9  10         190     7420   Pave    -1      Reg         Lvl    AllPub   \n",
       "\n",
       "  LotConfig LandSlope  ... CentralAir_N CentralAir_Y PavedDrive_N  \\\n",
       "0    Inside       Gtl  ...          0.0          1.0          0.0   \n",
       "1       FR2       Gtl  ...          0.0          1.0          0.0   \n",
       "2    Inside       Gtl  ...          0.0          1.0          0.0   \n",
       "3    Corner       Gtl  ...          0.0          1.0          0.0   \n",
       "4       FR2       Gtl  ...          0.0          1.0          0.0   \n",
       "5    Inside       Gtl  ...          0.0          1.0          0.0   \n",
       "6    Inside       Gtl  ...          0.0          1.0          0.0   \n",
       "7    Corner       Gtl  ...          0.0          1.0          0.0   \n",
       "8    Inside       Gtl  ...          0.0          1.0          0.0   \n",
       "9    Corner       Gtl  ...          0.0          1.0          0.0   \n",
       "\n",
       "  PavedDrive_P PavedDrive_Y  MSZoning_C (all)  MSZoning_FV  MSZoning_RH  \\\n",
       "0          0.0          1.0               0.0          0.0          0.0   \n",
       "1          0.0          1.0               0.0          0.0          0.0   \n",
       "2          0.0          1.0               0.0          0.0          0.0   \n",
       "3          0.0          1.0               0.0          0.0          0.0   \n",
       "4          0.0          1.0               0.0          0.0          0.0   \n",
       "5          0.0          1.0               0.0          0.0          0.0   \n",
       "6          0.0          1.0               0.0          0.0          0.0   \n",
       "7          0.0          1.0               0.0          0.0          0.0   \n",
       "8          0.0          1.0               0.0          0.0          0.0   \n",
       "9          0.0          1.0               0.0          0.0          0.0   \n",
       "\n",
       "   MSZoning_RL MSZoning_RM  \n",
       "0          1.0         0.0  \n",
       "1          1.0         0.0  \n",
       "2          1.0         0.0  \n",
       "3          1.0         0.0  \n",
       "4          1.0         0.0  \n",
       "5          1.0         0.0  \n",
       "6          1.0         0.0  \n",
       "7          1.0         0.0  \n",
       "8          0.0         1.0  \n",
       "9          1.0         0.0  \n",
       "\n",
       "[10 rows x 85 columns]"
      ]
     },
     "execution_count": 42,
     "metadata": {},
     "output_type": "execute_result"
    }
   ],
   "source": [
    "# Verificando o resultado\n",
    "treino.head(10)"
   ]
  },
  {
   "cell_type": "code",
   "execution_count": null,
   "id": "47daecfe",
   "metadata": {},
   "outputs": [],
   "source": []
  },
  {
   "cell_type": "code",
   "execution_count": null,
   "id": "3f04781d",
   "metadata": {},
   "outputs": [],
   "source": []
  },
  {
   "cell_type": "markdown",
   "id": "ec7c23de",
   "metadata": {},
   "source": [
    "## Realizando os mesmos tratamentos para a base de teste"
   ]
  },
  {
   "cell_type": "markdown",
   "id": "91af3013",
   "metadata": {},
   "source": [
    "### Substituindo os valores null por -1"
   ]
  },
  {
   "cell_type": "code",
   "execution_count": 43,
   "id": "f01e2046",
   "metadata": {},
   "outputs": [],
   "source": [
    "teste[['PoolQC','MiscFeature','Alley','Fence']] = teste[['PoolQC','MiscFeature','Alley','Fence']].fillna(-1)"
   ]
  },
  {
   "cell_type": "code",
   "execution_count": 44,
   "id": "1e64044d",
   "metadata": {},
   "outputs": [],
   "source": [
    "teste = teste.fillna(-1)"
   ]
  },
  {
   "cell_type": "code",
   "execution_count": 45,
   "id": "8bdc7375",
   "metadata": {},
   "outputs": [
    {
     "data": {
      "text/plain": [
       "Id               0\n",
       "GarageYrBlt      0\n",
       "EnclosedPorch    0\n",
       "dtype: int64"
      ]
     },
     "execution_count": 45,
     "metadata": {},
     "output_type": "execute_result"
    }
   ],
   "source": [
    "treino.isnull().sum().sort_values(ascending=False).head(3)"
   ]
  },
  {
   "cell_type": "code",
   "execution_count": null,
   "id": "4454da43",
   "metadata": {},
   "outputs": [],
   "source": []
  },
  {
   "cell_type": "markdown",
   "id": "b0afab94",
   "metadata": {},
   "source": [
    "### Transformando as colunas importantes do \"teste\" com OneHotEncoder\n",
    "\n",
    "- CentralAir, PavedDrive e MSZoning"
   ]
  },
  {
   "cell_type": "code",
   "execution_count": 46,
   "id": "ec2d4993",
   "metadata": {},
   "outputs": [
    {
     "data": {
      "text/plain": [
       "array([[0., 1., 0., ..., 1., 0., 0.],\n",
       "       [0., 1., 0., ..., 0., 1., 0.],\n",
       "       [0., 1., 0., ..., 0., 1., 0.],\n",
       "       ...,\n",
       "       [0., 1., 0., ..., 0., 1., 0.],\n",
       "       [0., 1., 0., ..., 0., 1., 0.],\n",
       "       [0., 1., 0., ..., 0., 1., 0.]])"
      ]
     },
     "execution_count": 46,
     "metadata": {},
     "output_type": "execute_result"
    }
   ],
   "source": [
    "ohe_MSZoning.transform(teste[[\"CentralAir\", \"PavedDrive\", 'MSZoning']]).toarray()"
   ]
  },
  {
   "cell_type": "code",
   "execution_count": 47,
   "id": "9838dd25",
   "metadata": {},
   "outputs": [
    {
     "data": {
      "text/html": [
       "<div>\n",
       "<style scoped>\n",
       "    .dataframe tbody tr th:only-of-type {\n",
       "        vertical-align: middle;\n",
       "    }\n",
       "\n",
       "    .dataframe tbody tr th {\n",
       "        vertical-align: top;\n",
       "    }\n",
       "\n",
       "    .dataframe thead th {\n",
       "        text-align: right;\n",
       "    }\n",
       "</style>\n",
       "<table border=\"1\" class=\"dataframe\">\n",
       "  <thead>\n",
       "    <tr style=\"text-align: right;\">\n",
       "      <th></th>\n",
       "      <th>CentralAir_N</th>\n",
       "      <th>CentralAir_Y</th>\n",
       "      <th>PavedDrive_N</th>\n",
       "      <th>PavedDrive_P</th>\n",
       "      <th>PavedDrive_Y</th>\n",
       "      <th>MSZoning_C (all)</th>\n",
       "      <th>MSZoning_FV</th>\n",
       "      <th>MSZoning_RH</th>\n",
       "      <th>MSZoning_RL</th>\n",
       "      <th>MSZoning_RM</th>\n",
       "    </tr>\n",
       "  </thead>\n",
       "  <tbody>\n",
       "    <tr>\n",
       "      <th>0</th>\n",
       "      <td>0.0</td>\n",
       "      <td>1.0</td>\n",
       "      <td>0.0</td>\n",
       "      <td>0.0</td>\n",
       "      <td>1.0</td>\n",
       "      <td>0.0</td>\n",
       "      <td>0.0</td>\n",
       "      <td>1.0</td>\n",
       "      <td>0.0</td>\n",
       "      <td>0.0</td>\n",
       "    </tr>\n",
       "    <tr>\n",
       "      <th>1</th>\n",
       "      <td>0.0</td>\n",
       "      <td>1.0</td>\n",
       "      <td>0.0</td>\n",
       "      <td>0.0</td>\n",
       "      <td>1.0</td>\n",
       "      <td>0.0</td>\n",
       "      <td>0.0</td>\n",
       "      <td>0.0</td>\n",
       "      <td>1.0</td>\n",
       "      <td>0.0</td>\n",
       "    </tr>\n",
       "    <tr>\n",
       "      <th>2</th>\n",
       "      <td>0.0</td>\n",
       "      <td>1.0</td>\n",
       "      <td>0.0</td>\n",
       "      <td>0.0</td>\n",
       "      <td>1.0</td>\n",
       "      <td>0.0</td>\n",
       "      <td>0.0</td>\n",
       "      <td>0.0</td>\n",
       "      <td>1.0</td>\n",
       "      <td>0.0</td>\n",
       "    </tr>\n",
       "  </tbody>\n",
       "</table>\n",
       "</div>"
      ],
      "text/plain": [
       "   CentralAir_N  CentralAir_Y  PavedDrive_N  PavedDrive_P  PavedDrive_Y  \\\n",
       "0           0.0           1.0           0.0           0.0           1.0   \n",
       "1           0.0           1.0           0.0           0.0           1.0   \n",
       "2           0.0           1.0           0.0           0.0           1.0   \n",
       "\n",
       "   MSZoning_C (all)  MSZoning_FV  MSZoning_RH  MSZoning_RL  MSZoning_RM  \n",
       "0               0.0          0.0          1.0          0.0          0.0  \n",
       "1               0.0          0.0          0.0          1.0          0.0  \n",
       "2               0.0          0.0          0.0          1.0          0.0  "
      ]
     },
     "execution_count": 47,
     "metadata": {},
     "output_type": "execute_result"
    }
   ],
   "source": [
    "# Podemos transformar isso em um DataFrame do pandas\n",
    "ohe_MSZoning_df = pd.DataFrame(ohe_MSZoning.transform(teste[[\"CentralAir\", \"PavedDrive\", 'MSZoning']]).toarray(),\n",
    "                              columns=ohe_MSZoning.get_feature_names_out())\n",
    "ohe_MSZoning_df.head(3)"
   ]
  },
  {
   "cell_type": "code",
   "execution_count": 48,
   "id": "a223e418",
   "metadata": {},
   "outputs": [],
   "source": [
    "# Unindo essa coluna com a base\n",
    "teste = pd.concat([teste,ohe_MSZoning_df],axis=1)"
   ]
  },
  {
   "cell_type": "code",
   "execution_count": 49,
   "id": "b05bc96b",
   "metadata": {},
   "outputs": [],
   "source": [
    "# Eliminando as colunas \n",
    "teste = teste.drop([\"CentralAir\", \"PavedDrive\", 'MSZoning'],axis=1)"
   ]
  },
  {
   "cell_type": "code",
   "execution_count": 50,
   "id": "0d7d24b3",
   "metadata": {},
   "outputs": [
    {
     "data": {
      "text/html": [
       "<div>\n",
       "<style scoped>\n",
       "    .dataframe tbody tr th:only-of-type {\n",
       "        vertical-align: middle;\n",
       "    }\n",
       "\n",
       "    .dataframe tbody tr th {\n",
       "        vertical-align: top;\n",
       "    }\n",
       "\n",
       "    .dataframe thead th {\n",
       "        text-align: right;\n",
       "    }\n",
       "</style>\n",
       "<table border=\"1\" class=\"dataframe\">\n",
       "  <thead>\n",
       "    <tr style=\"text-align: right;\">\n",
       "      <th></th>\n",
       "      <th>Id</th>\n",
       "      <th>MSSubClass</th>\n",
       "      <th>LotArea</th>\n",
       "      <th>Street</th>\n",
       "      <th>Alley</th>\n",
       "      <th>LotShape</th>\n",
       "      <th>LandContour</th>\n",
       "      <th>Utilities</th>\n",
       "      <th>LotConfig</th>\n",
       "      <th>LandSlope</th>\n",
       "      <th>...</th>\n",
       "      <th>CentralAir_N</th>\n",
       "      <th>CentralAir_Y</th>\n",
       "      <th>PavedDrive_N</th>\n",
       "      <th>PavedDrive_P</th>\n",
       "      <th>PavedDrive_Y</th>\n",
       "      <th>MSZoning_C (all)</th>\n",
       "      <th>MSZoning_FV</th>\n",
       "      <th>MSZoning_RH</th>\n",
       "      <th>MSZoning_RL</th>\n",
       "      <th>MSZoning_RM</th>\n",
       "    </tr>\n",
       "  </thead>\n",
       "  <tbody>\n",
       "    <tr>\n",
       "      <th>0</th>\n",
       "      <td>1461</td>\n",
       "      <td>20</td>\n",
       "      <td>11622</td>\n",
       "      <td>Pave</td>\n",
       "      <td>-1</td>\n",
       "      <td>Reg</td>\n",
       "      <td>Lvl</td>\n",
       "      <td>AllPub</td>\n",
       "      <td>Inside</td>\n",
       "      <td>Gtl</td>\n",
       "      <td>...</td>\n",
       "      <td>0.0</td>\n",
       "      <td>1.0</td>\n",
       "      <td>0.0</td>\n",
       "      <td>0.0</td>\n",
       "      <td>1.0</td>\n",
       "      <td>0.0</td>\n",
       "      <td>0.0</td>\n",
       "      <td>1.0</td>\n",
       "      <td>0.0</td>\n",
       "      <td>0.0</td>\n",
       "    </tr>\n",
       "    <tr>\n",
       "      <th>1</th>\n",
       "      <td>1462</td>\n",
       "      <td>20</td>\n",
       "      <td>14267</td>\n",
       "      <td>Pave</td>\n",
       "      <td>-1</td>\n",
       "      <td>IR1</td>\n",
       "      <td>Lvl</td>\n",
       "      <td>AllPub</td>\n",
       "      <td>Corner</td>\n",
       "      <td>Gtl</td>\n",
       "      <td>...</td>\n",
       "      <td>0.0</td>\n",
       "      <td>1.0</td>\n",
       "      <td>0.0</td>\n",
       "      <td>0.0</td>\n",
       "      <td>1.0</td>\n",
       "      <td>0.0</td>\n",
       "      <td>0.0</td>\n",
       "      <td>0.0</td>\n",
       "      <td>1.0</td>\n",
       "      <td>0.0</td>\n",
       "    </tr>\n",
       "    <tr>\n",
       "      <th>2</th>\n",
       "      <td>1463</td>\n",
       "      <td>60</td>\n",
       "      <td>13830</td>\n",
       "      <td>Pave</td>\n",
       "      <td>-1</td>\n",
       "      <td>IR1</td>\n",
       "      <td>Lvl</td>\n",
       "      <td>AllPub</td>\n",
       "      <td>Inside</td>\n",
       "      <td>Gtl</td>\n",
       "      <td>...</td>\n",
       "      <td>0.0</td>\n",
       "      <td>1.0</td>\n",
       "      <td>0.0</td>\n",
       "      <td>0.0</td>\n",
       "      <td>1.0</td>\n",
       "      <td>0.0</td>\n",
       "      <td>0.0</td>\n",
       "      <td>0.0</td>\n",
       "      <td>1.0</td>\n",
       "      <td>0.0</td>\n",
       "    </tr>\n",
       "    <tr>\n",
       "      <th>3</th>\n",
       "      <td>1464</td>\n",
       "      <td>60</td>\n",
       "      <td>9978</td>\n",
       "      <td>Pave</td>\n",
       "      <td>-1</td>\n",
       "      <td>IR1</td>\n",
       "      <td>Lvl</td>\n",
       "      <td>AllPub</td>\n",
       "      <td>Inside</td>\n",
       "      <td>Gtl</td>\n",
       "      <td>...</td>\n",
       "      <td>0.0</td>\n",
       "      <td>1.0</td>\n",
       "      <td>0.0</td>\n",
       "      <td>0.0</td>\n",
       "      <td>1.0</td>\n",
       "      <td>0.0</td>\n",
       "      <td>0.0</td>\n",
       "      <td>0.0</td>\n",
       "      <td>1.0</td>\n",
       "      <td>0.0</td>\n",
       "    </tr>\n",
       "    <tr>\n",
       "      <th>4</th>\n",
       "      <td>1465</td>\n",
       "      <td>120</td>\n",
       "      <td>5005</td>\n",
       "      <td>Pave</td>\n",
       "      <td>-1</td>\n",
       "      <td>IR1</td>\n",
       "      <td>HLS</td>\n",
       "      <td>AllPub</td>\n",
       "      <td>Inside</td>\n",
       "      <td>Gtl</td>\n",
       "      <td>...</td>\n",
       "      <td>0.0</td>\n",
       "      <td>1.0</td>\n",
       "      <td>0.0</td>\n",
       "      <td>0.0</td>\n",
       "      <td>1.0</td>\n",
       "      <td>0.0</td>\n",
       "      <td>0.0</td>\n",
       "      <td>0.0</td>\n",
       "      <td>1.0</td>\n",
       "      <td>0.0</td>\n",
       "    </tr>\n",
       "    <tr>\n",
       "      <th>5</th>\n",
       "      <td>1466</td>\n",
       "      <td>60</td>\n",
       "      <td>10000</td>\n",
       "      <td>Pave</td>\n",
       "      <td>-1</td>\n",
       "      <td>IR1</td>\n",
       "      <td>Lvl</td>\n",
       "      <td>AllPub</td>\n",
       "      <td>Corner</td>\n",
       "      <td>Gtl</td>\n",
       "      <td>...</td>\n",
       "      <td>0.0</td>\n",
       "      <td>1.0</td>\n",
       "      <td>0.0</td>\n",
       "      <td>0.0</td>\n",
       "      <td>1.0</td>\n",
       "      <td>0.0</td>\n",
       "      <td>0.0</td>\n",
       "      <td>0.0</td>\n",
       "      <td>1.0</td>\n",
       "      <td>0.0</td>\n",
       "    </tr>\n",
       "    <tr>\n",
       "      <th>6</th>\n",
       "      <td>1467</td>\n",
       "      <td>20</td>\n",
       "      <td>7980</td>\n",
       "      <td>Pave</td>\n",
       "      <td>-1</td>\n",
       "      <td>IR1</td>\n",
       "      <td>Lvl</td>\n",
       "      <td>AllPub</td>\n",
       "      <td>Inside</td>\n",
       "      <td>Gtl</td>\n",
       "      <td>...</td>\n",
       "      <td>0.0</td>\n",
       "      <td>1.0</td>\n",
       "      <td>0.0</td>\n",
       "      <td>0.0</td>\n",
       "      <td>1.0</td>\n",
       "      <td>0.0</td>\n",
       "      <td>0.0</td>\n",
       "      <td>0.0</td>\n",
       "      <td>1.0</td>\n",
       "      <td>0.0</td>\n",
       "    </tr>\n",
       "    <tr>\n",
       "      <th>7</th>\n",
       "      <td>1468</td>\n",
       "      <td>60</td>\n",
       "      <td>8402</td>\n",
       "      <td>Pave</td>\n",
       "      <td>-1</td>\n",
       "      <td>IR1</td>\n",
       "      <td>Lvl</td>\n",
       "      <td>AllPub</td>\n",
       "      <td>Inside</td>\n",
       "      <td>Gtl</td>\n",
       "      <td>...</td>\n",
       "      <td>0.0</td>\n",
       "      <td>1.0</td>\n",
       "      <td>0.0</td>\n",
       "      <td>0.0</td>\n",
       "      <td>1.0</td>\n",
       "      <td>0.0</td>\n",
       "      <td>0.0</td>\n",
       "      <td>0.0</td>\n",
       "      <td>1.0</td>\n",
       "      <td>0.0</td>\n",
       "    </tr>\n",
       "    <tr>\n",
       "      <th>8</th>\n",
       "      <td>1469</td>\n",
       "      <td>20</td>\n",
       "      <td>10176</td>\n",
       "      <td>Pave</td>\n",
       "      <td>-1</td>\n",
       "      <td>Reg</td>\n",
       "      <td>Lvl</td>\n",
       "      <td>AllPub</td>\n",
       "      <td>Inside</td>\n",
       "      <td>Gtl</td>\n",
       "      <td>...</td>\n",
       "      <td>0.0</td>\n",
       "      <td>1.0</td>\n",
       "      <td>0.0</td>\n",
       "      <td>0.0</td>\n",
       "      <td>1.0</td>\n",
       "      <td>0.0</td>\n",
       "      <td>0.0</td>\n",
       "      <td>0.0</td>\n",
       "      <td>1.0</td>\n",
       "      <td>0.0</td>\n",
       "    </tr>\n",
       "    <tr>\n",
       "      <th>9</th>\n",
       "      <td>1470</td>\n",
       "      <td>20</td>\n",
       "      <td>8400</td>\n",
       "      <td>Pave</td>\n",
       "      <td>-1</td>\n",
       "      <td>Reg</td>\n",
       "      <td>Lvl</td>\n",
       "      <td>AllPub</td>\n",
       "      <td>Corner</td>\n",
       "      <td>Gtl</td>\n",
       "      <td>...</td>\n",
       "      <td>0.0</td>\n",
       "      <td>1.0</td>\n",
       "      <td>0.0</td>\n",
       "      <td>0.0</td>\n",
       "      <td>1.0</td>\n",
       "      <td>0.0</td>\n",
       "      <td>0.0</td>\n",
       "      <td>0.0</td>\n",
       "      <td>1.0</td>\n",
       "      <td>0.0</td>\n",
       "    </tr>\n",
       "  </tbody>\n",
       "</table>\n",
       "<p>10 rows × 84 columns</p>\n",
       "</div>"
      ],
      "text/plain": [
       "     Id  MSSubClass  LotArea Street Alley LotShape LandContour Utilities  \\\n",
       "0  1461          20    11622   Pave    -1      Reg         Lvl    AllPub   \n",
       "1  1462          20    14267   Pave    -1      IR1         Lvl    AllPub   \n",
       "2  1463          60    13830   Pave    -1      IR1         Lvl    AllPub   \n",
       "3  1464          60     9978   Pave    -1      IR1         Lvl    AllPub   \n",
       "4  1465         120     5005   Pave    -1      IR1         HLS    AllPub   \n",
       "5  1466          60    10000   Pave    -1      IR1         Lvl    AllPub   \n",
       "6  1467          20     7980   Pave    -1      IR1         Lvl    AllPub   \n",
       "7  1468          60     8402   Pave    -1      IR1         Lvl    AllPub   \n",
       "8  1469          20    10176   Pave    -1      Reg         Lvl    AllPub   \n",
       "9  1470          20     8400   Pave    -1      Reg         Lvl    AllPub   \n",
       "\n",
       "  LotConfig LandSlope  ... CentralAir_N CentralAir_Y PavedDrive_N  \\\n",
       "0    Inside       Gtl  ...          0.0          1.0          0.0   \n",
       "1    Corner       Gtl  ...          0.0          1.0          0.0   \n",
       "2    Inside       Gtl  ...          0.0          1.0          0.0   \n",
       "3    Inside       Gtl  ...          0.0          1.0          0.0   \n",
       "4    Inside       Gtl  ...          0.0          1.0          0.0   \n",
       "5    Corner       Gtl  ...          0.0          1.0          0.0   \n",
       "6    Inside       Gtl  ...          0.0          1.0          0.0   \n",
       "7    Inside       Gtl  ...          0.0          1.0          0.0   \n",
       "8    Inside       Gtl  ...          0.0          1.0          0.0   \n",
       "9    Corner       Gtl  ...          0.0          1.0          0.0   \n",
       "\n",
       "  PavedDrive_P PavedDrive_Y  MSZoning_C (all)  MSZoning_FV  MSZoning_RH  \\\n",
       "0          0.0          1.0               0.0          0.0          1.0   \n",
       "1          0.0          1.0               0.0          0.0          0.0   \n",
       "2          0.0          1.0               0.0          0.0          0.0   \n",
       "3          0.0          1.0               0.0          0.0          0.0   \n",
       "4          0.0          1.0               0.0          0.0          0.0   \n",
       "5          0.0          1.0               0.0          0.0          0.0   \n",
       "6          0.0          1.0               0.0          0.0          0.0   \n",
       "7          0.0          1.0               0.0          0.0          0.0   \n",
       "8          0.0          1.0               0.0          0.0          0.0   \n",
       "9          0.0          1.0               0.0          0.0          0.0   \n",
       "\n",
       "   MSZoning_RL MSZoning_RM  \n",
       "0          0.0         0.0  \n",
       "1          1.0         0.0  \n",
       "2          1.0         0.0  \n",
       "3          1.0         0.0  \n",
       "4          1.0         0.0  \n",
       "5          1.0         0.0  \n",
       "6          1.0         0.0  \n",
       "7          1.0         0.0  \n",
       "8          1.0         0.0  \n",
       "9          1.0         0.0  \n",
       "\n",
       "[10 rows x 84 columns]"
      ]
     },
     "execution_count": 50,
     "metadata": {},
     "output_type": "execute_result"
    }
   ],
   "source": [
    "# Verificando o resultado\n",
    "teste.head(10)"
   ]
  },
  {
   "cell_type": "code",
   "execution_count": null,
   "id": "6fc9d65c",
   "metadata": {},
   "outputs": [],
   "source": []
  },
  {
   "cell_type": "code",
   "execution_count": null,
   "id": "81c48a0d",
   "metadata": {},
   "outputs": [],
   "source": []
  },
  {
   "cell_type": "code",
   "execution_count": null,
   "id": "ce694f70",
   "metadata": {},
   "outputs": [],
   "source": []
  },
  {
   "cell_type": "markdown",
   "id": "f08b1567",
   "metadata": {},
   "source": [
    "## Analisando as informações sobre garagem"
   ]
  },
  {
   "cell_type": "code",
   "execution_count": 51,
   "id": "fc78f3fb",
   "metadata": {},
   "outputs": [
    {
     "data": {
      "text/plain": [
       "GarageQual\n",
       "TA    1311\n",
       "-1      81\n",
       "Fa      48\n",
       "Gd      14\n",
       "Ex       3\n",
       "Po       3\n",
       "Name: count, dtype: int64"
      ]
     },
     "execution_count": 51,
     "metadata": {},
     "output_type": "execute_result"
    }
   ],
   "source": [
    "# Verificando os valores nessa coluna\n",
    "treino.GarageQual.value_counts()"
   ]
  },
  {
   "cell_type": "markdown",
   "id": "c4c18909",
   "metadata": {},
   "source": [
    "### Visualizando graficamente"
   ]
  },
  {
   "cell_type": "code",
   "execution_count": 52,
   "id": "3ee453d2",
   "metadata": {},
   "outputs": [
    {
     "data": {
      "image/png": "[encoded data removed]",
      "text/plain": [
       "<Figure size 1500x500 with 2 Axes>"
      ]
     },
     "metadata": {},
     "output_type": "display_data"
    }
   ],
   "source": [
    "fig, ax = plt.subplots(ncols=2,figsize=(15,5))\n",
    "\n",
    "sns.boxplot(x=treino['GarageQual'],y=treino.SalePrice,ax=ax[0])\n",
    "sns.kdeplot(x=treino.SalePrice,hue=treino['GarageQual'],ax=ax[1])\n",
    "\n",
    "plt.show()"
   ]
  },
  {
   "cell_type": "markdown",
   "id": "00760bb3",
   "metadata": {},
   "source": [
    "- Percebemos que existem várias colunas de garagem, então podemos visualizar essas informações"
   ]
  },
  {
   "cell_type": "markdown",
   "id": "12a452fa",
   "metadata": {},
   "source": [
    "### Verificando as colunas que possuem garagem no nome"
   ]
  },
  {
   "cell_type": "code",
   "execution_count": 53,
   "id": "e8239874",
   "metadata": {},
   "outputs": [
    {
     "data": {
      "text/plain": [
       "Index(['GarageType', 'GarageYrBlt', 'GarageFinish', 'GarageCars', 'GarageArea',\n",
       "       'GarageQual', 'GarageCond'],\n",
       "      dtype='object')"
      ]
     },
     "execution_count": 53,
     "metadata": {},
     "output_type": "execute_result"
    }
   ],
   "source": [
    "cols_garagem = treino.columns[treino.columns.str.contains('Garage')]\n",
    "cols_garagem"
   ]
  },
  {
   "cell_type": "code",
   "execution_count": 54,
   "id": "8e877b68",
   "metadata": {},
   "outputs": [
    {
     "data": {
      "text/html": [
       "<div>\n",
       "<style scoped>\n",
       "    .dataframe tbody tr th:only-of-type {\n",
       "        vertical-align: middle;\n",
       "    }\n",
       "\n",
       "    .dataframe tbody tr th {\n",
       "        vertical-align: top;\n",
       "    }\n",
       "\n",
       "    .dataframe thead th {\n",
       "        text-align: right;\n",
       "    }\n",
       "</style>\n",
       "<table border=\"1\" class=\"dataframe\">\n",
       "  <thead>\n",
       "    <tr style=\"text-align: right;\">\n",
       "      <th></th>\n",
       "      <th>GarageType</th>\n",
       "      <th>GarageYrBlt</th>\n",
       "      <th>GarageFinish</th>\n",
       "      <th>GarageCars</th>\n",
       "      <th>GarageArea</th>\n",
       "      <th>GarageQual</th>\n",
       "      <th>GarageCond</th>\n",
       "    </tr>\n",
       "  </thead>\n",
       "  <tbody>\n",
       "    <tr>\n",
       "      <th>0</th>\n",
       "      <td>Attchd</td>\n",
       "      <td>2003.0</td>\n",
       "      <td>RFn</td>\n",
       "      <td>2</td>\n",
       "      <td>548</td>\n",
       "      <td>TA</td>\n",
       "      <td>TA</td>\n",
       "    </tr>\n",
       "    <tr>\n",
       "      <th>1</th>\n",
       "      <td>Attchd</td>\n",
       "      <td>1976.0</td>\n",
       "      <td>RFn</td>\n",
       "      <td>2</td>\n",
       "      <td>460</td>\n",
       "      <td>TA</td>\n",
       "      <td>TA</td>\n",
       "    </tr>\n",
       "    <tr>\n",
       "      <th>2</th>\n",
       "      <td>Attchd</td>\n",
       "      <td>2001.0</td>\n",
       "      <td>RFn</td>\n",
       "      <td>2</td>\n",
       "      <td>608</td>\n",
       "      <td>TA</td>\n",
       "      <td>TA</td>\n",
       "    </tr>\n",
       "    <tr>\n",
       "      <th>3</th>\n",
       "      <td>Detchd</td>\n",
       "      <td>1998.0</td>\n",
       "      <td>Unf</td>\n",
       "      <td>3</td>\n",
       "      <td>642</td>\n",
       "      <td>TA</td>\n",
       "      <td>TA</td>\n",
       "    </tr>\n",
       "    <tr>\n",
       "      <th>4</th>\n",
       "      <td>Attchd</td>\n",
       "      <td>2000.0</td>\n",
       "      <td>RFn</td>\n",
       "      <td>3</td>\n",
       "      <td>836</td>\n",
       "      <td>TA</td>\n",
       "      <td>TA</td>\n",
       "    </tr>\n",
       "  </tbody>\n",
       "</table>\n",
       "</div>"
      ],
      "text/plain": [
       "  GarageType  GarageYrBlt GarageFinish  GarageCars  GarageArea GarageQual  \\\n",
       "0     Attchd       2003.0          RFn           2         548         TA   \n",
       "1     Attchd       1976.0          RFn           2         460         TA   \n",
       "2     Attchd       2001.0          RFn           2         608         TA   \n",
       "3     Detchd       1998.0          Unf           3         642         TA   \n",
       "4     Attchd       2000.0          RFn           3         836         TA   \n",
       "\n",
       "  GarageCond  \n",
       "0         TA  \n",
       "1         TA  \n",
       "2         TA  \n",
       "3         TA  \n",
       "4         TA  "
      ]
     },
     "execution_count": 54,
     "metadata": {},
     "output_type": "execute_result"
    }
   ],
   "source": [
    "# Visualizando os valores nessa base\n",
    "treino[cols_garagem].head(5)"
   ]
  },
  {
   "cell_type": "markdown",
   "id": "a98d5e02",
   "metadata": {},
   "source": [
    "### Analisando Qualidade e Condição da garagem\n",
    "\n",
    "#### Fazendo o value_counts das colunas de Qualidade e Condição"
   ]
  },
  {
   "cell_type": "code",
   "execution_count": 55,
   "id": "59e5e9cc",
   "metadata": {},
   "outputs": [
    {
     "data": {
      "text/plain": [
       "GarageQual  GarageCond\n",
       "TA          TA            1291\n",
       "-1          -1              81\n",
       "Fa          TA              24\n",
       "            Fa              20\n",
       "TA          Fa              15\n",
       "Gd          TA              10\n",
       "TA          Gd               5\n",
       "Fa          Po               4\n",
       "Gd          Gd               4\n",
       "Po          Po               3\n",
       "Ex          Ex               2\n",
       "            TA               1\n",
       "Name: count, dtype: int64"
      ]
     },
     "execution_count": 55,
     "metadata": {},
     "output_type": "execute_result"
    }
   ],
   "source": [
    "treino[['GarageQual','GarageCond']].value_counts()"
   ]
  },
  {
   "cell_type": "markdown",
   "id": "6bb28f7b",
   "metadata": {},
   "source": [
    "### Contando em quantas colunas temos GarageQual == GarageCond"
   ]
  },
  {
   "cell_type": "code",
   "execution_count": 56,
   "id": "bbe2cb98",
   "metadata": {},
   "outputs": [
    {
     "data": {
      "text/plain": [
       "0.9595890410958904"
      ]
     },
     "execution_count": 56,
     "metadata": {},
     "output_type": "execute_result"
    }
   ],
   "source": [
    "treino[treino.GarageQual == treino.GarageCond].shape[0]/treino.shape[0]"
   ]
  },
  {
   "cell_type": "markdown",
   "id": "5efeb763",
   "metadata": {},
   "source": [
    "- **Podemos apagar a coluna \"GarageCond\" pois a informação nessa coluna diz basicamente a mesma coisa que a coluna \"GarageQual\"** "
   ]
  },
  {
   "cell_type": "code",
   "execution_count": 57,
   "id": "e160e74e",
   "metadata": {},
   "outputs": [],
   "source": [
    "# Apagando a coluna GarageCond\n",
    "treino = treino.drop('GarageCond',axis=1)\n",
    "teste = teste.drop('GarageCond',axis=1)"
   ]
  },
  {
   "cell_type": "markdown",
   "id": "8cac8401",
   "metadata": {},
   "source": [
    "### Analisando  \"GarageCars\" e \"GarageArea\"**"
   ]
  },
  {
   "cell_type": "code",
   "execution_count": 58,
   "id": "ab2aba23",
   "metadata": {},
   "outputs": [
    {
     "data": {
      "text/html": [
       "<div>\n",
       "<style scoped>\n",
       "    .dataframe tbody tr th:only-of-type {\n",
       "        vertical-align: middle;\n",
       "    }\n",
       "\n",
       "    .dataframe tbody tr th {\n",
       "        vertical-align: top;\n",
       "    }\n",
       "\n",
       "    .dataframe thead th {\n",
       "        text-align: right;\n",
       "    }\n",
       "</style>\n",
       "<table border=\"1\" class=\"dataframe\">\n",
       "  <thead>\n",
       "    <tr style=\"text-align: right;\">\n",
       "      <th></th>\n",
       "      <th>GarageCars</th>\n",
       "      <th>GarageArea</th>\n",
       "      <th>SalePrice</th>\n",
       "    </tr>\n",
       "  </thead>\n",
       "  <tbody>\n",
       "    <tr>\n",
       "      <th>GarageCars</th>\n",
       "      <td>1.000000</td>\n",
       "      <td>0.882475</td>\n",
       "      <td>0.640409</td>\n",
       "    </tr>\n",
       "    <tr>\n",
       "      <th>GarageArea</th>\n",
       "      <td>0.882475</td>\n",
       "      <td>1.000000</td>\n",
       "      <td>0.623431</td>\n",
       "    </tr>\n",
       "    <tr>\n",
       "      <th>SalePrice</th>\n",
       "      <td>0.640409</td>\n",
       "      <td>0.623431</td>\n",
       "      <td>1.000000</td>\n",
       "    </tr>\n",
       "  </tbody>\n",
       "</table>\n",
       "</div>"
      ],
      "text/plain": [
       "            GarageCars  GarageArea  SalePrice\n",
       "GarageCars    1.000000    0.882475   0.640409\n",
       "GarageArea    0.882475    1.000000   0.623431\n",
       "SalePrice     0.640409    0.623431   1.000000"
      ]
     },
     "execution_count": 58,
     "metadata": {},
     "output_type": "execute_result"
    }
   ],
   "source": [
    "# Analisando a correlação entre as duas colunas e o preço\n",
    "treino[['GarageCars','GarageArea','SalePrice']].corr()"
   ]
  },
  {
   "cell_type": "markdown",
   "id": "ecd3cc9e",
   "metadata": {},
   "source": [
    "### Eliminando a coluna GarageArea"
   ]
  },
  {
   "cell_type": "code",
   "execution_count": 59,
   "id": "9bd4b930",
   "metadata": {},
   "outputs": [],
   "source": [
    "treino = treino.drop('GarageArea',axis=1)\n",
    "teste = teste.drop('GarageArea',axis=1)"
   ]
  },
  {
   "cell_type": "markdown",
   "id": "c02db51d",
   "metadata": {},
   "source": [
    "### Verificando novamente as colunas que possuem garagem no nome"
   ]
  },
  {
   "cell_type": "code",
   "execution_count": 60,
   "id": "a9e720b8",
   "metadata": {},
   "outputs": [
    {
     "data": {
      "text/plain": [
       "Index(['GarageType', 'GarageYrBlt', 'GarageFinish', 'GarageCars',\n",
       "       'GarageQual'],\n",
       "      dtype='object')"
      ]
     },
     "execution_count": 60,
     "metadata": {},
     "output_type": "execute_result"
    }
   ],
   "source": [
    "cols_garagem = treino.columns[treino.columns.str.contains('Garage')]\n",
    "cols_garagem"
   ]
  },
  {
   "cell_type": "code",
   "execution_count": null,
   "id": "015ee6dc",
   "metadata": {},
   "outputs": [],
   "source": []
  },
  {
   "cell_type": "code",
   "execution_count": null,
   "id": "e06b8b0e",
   "metadata": {},
   "outputs": [],
   "source": []
  },
  {
   "cell_type": "code",
   "execution_count": null,
   "id": "46ef8d5a",
   "metadata": {},
   "outputs": [],
   "source": []
  },
  {
   "cell_type": "code",
   "execution_count": null,
   "id": "182bbddd",
   "metadata": {},
   "outputs": [],
   "source": []
  },
  {
   "cell_type": "code",
   "execution_count": null,
   "id": "073e85e0",
   "metadata": {},
   "outputs": [],
   "source": []
  },
  {
   "cell_type": "code",
   "execution_count": null,
   "id": "9c9fbc71",
   "metadata": {},
   "outputs": [],
   "source": []
  },
  {
   "cell_type": "code",
   "execution_count": null,
   "id": "f91b383d",
   "metadata": {},
   "outputs": [],
   "source": []
  },
  {
   "cell_type": "code",
   "execution_count": null,
   "id": "f8e7de0f",
   "metadata": {},
   "outputs": [],
   "source": []
  },
  {
   "cell_type": "markdown",
   "id": "e6e411ef",
   "metadata": {},
   "source": [
    "## Preparando para o modelo"
   ]
  },
  {
   "cell_type": "markdown",
   "id": "52e3b96b",
   "metadata": {},
   "source": [
    "### Selecionando apenas as colunas numéricas para o modelo"
   ]
  },
  {
   "cell_type": "code",
   "execution_count": 61,
   "id": "bf071862",
   "metadata": {},
   "outputs": [
    {
     "data": {
      "text/plain": [
       "Index(['Id', 'MSSubClass', 'LotArea', 'OverallQual', 'OverallCond',\n",
       "       'YearBuilt', 'YearRemodAdd', 'MasVnrArea', 'BsmtFinSF1', 'BsmtFinSF2',\n",
       "       'BsmtUnfSF', 'TotalBsmtSF', '1stFlrSF', '2ndFlrSF', 'LowQualFinSF',\n",
       "       'GrLivArea', 'BsmtFullBath', 'BsmtHalfBath', 'FullBath', 'HalfBath',\n",
       "       'BedroomAbvGr', 'KitchenAbvGr', 'TotRmsAbvGrd', 'Fireplaces',\n",
       "       'GarageYrBlt', 'GarageCars', 'WoodDeckSF', 'OpenPorchSF',\n",
       "       'EnclosedPorch', '3SsnPorch', 'ScreenPorch', 'PoolArea', 'MiscVal',\n",
       "       'MoSold', 'YrSold', 'SalePrice', 'CentralAir_N', 'CentralAir_Y',\n",
       "       'PavedDrive_N', 'PavedDrive_P', 'PavedDrive_Y', 'MSZoning_C (all)',\n",
       "       'MSZoning_FV', 'MSZoning_RH', 'MSZoning_RL', 'MSZoning_RM'],\n",
       "      dtype='object')"
      ]
     },
     "execution_count": 61,
     "metadata": {},
     "output_type": "execute_result"
    }
   ],
   "source": [
    "col_nr = treino.columns[treino.dtypes != 'object']\n",
    "col_nr"
   ]
  },
  {
   "cell_type": "markdown",
   "id": "0161bcd9",
   "metadata": {},
   "source": [
    "### E criar uma nova base com esses valores\n"
   ]
  },
  {
   "cell_type": "code",
   "execution_count": 62,
   "id": "a13d4965",
   "metadata": {},
   "outputs": [],
   "source": [
    "treino = treino.loc[:,col_nr]"
   ]
  },
  {
   "cell_type": "markdown",
   "id": "eac861a0",
   "metadata": {},
   "source": [
    "## Criando nosso modelo"
   ]
  },
  {
   "cell_type": "markdown",
   "id": "891fe278",
   "metadata": {},
   "source": [
    "### Selecionando X e y"
   ]
  },
  {
   "cell_type": "code",
   "execution_count": 63,
   "id": "2b9a97da",
   "metadata": {},
   "outputs": [],
   "source": [
    "X = treino.drop('SalePrice',axis=1)\n",
    "y = treino.SalePrice"
   ]
  },
  {
   "cell_type": "markdown",
   "id": "e32563a6",
   "metadata": {},
   "source": [
    "### Treino e teste"
   ]
  },
  {
   "cell_type": "code",
   "execution_count": 64,
   "id": "149956b5",
   "metadata": {},
   "outputs": [],
   "source": [
    "from sklearn.model_selection import train_test_split"
   ]
  },
  {
   "cell_type": "code",
   "execution_count": 65,
   "id": "6ec49ce2",
   "metadata": {},
   "outputs": [],
   "source": [
    "X_train, X_test, y_train, y_test = train_test_split(X, y, test_size=0.33, random_state=42)"
   ]
  },
  {
   "cell_type": "code",
   "execution_count": null,
   "id": "bb531dbc",
   "metadata": {},
   "outputs": [],
   "source": []
  },
  {
   "cell_type": "markdown",
   "id": "0b8eda6c",
   "metadata": {},
   "source": [
    "## Regressão linear"
   ]
  },
  {
   "cell_type": "code",
   "execution_count": 66,
   "id": "76235128",
   "metadata": {},
   "outputs": [],
   "source": [
    "from sklearn.linear_model import LinearRegression"
   ]
  },
  {
   "cell_type": "code",
   "execution_count": 67,
   "id": "581ebb2d",
   "metadata": {},
   "outputs": [],
   "source": [
    "reg_rl = LinearRegression().fit(X_train, y_train)"
   ]
  },
  {
   "cell_type": "markdown",
   "id": "a559ac16",
   "metadata": {},
   "source": [
    "#### Previsão"
   ]
  },
  {
   "cell_type": "code",
   "execution_count": 68,
   "id": "1bfbbbdf",
   "metadata": {},
   "outputs": [],
   "source": [
    "y_pred_rl = reg_rl.predict(X_test)"
   ]
  },
  {
   "cell_type": "code",
   "execution_count": null,
   "id": "3326e226",
   "metadata": {},
   "outputs": [],
   "source": []
  },
  {
   "cell_type": "markdown",
   "id": "b9862ff0",
   "metadata": {},
   "source": [
    "## RandomForestRegressor"
   ]
  },
  {
   "cell_type": "code",
   "execution_count": 69,
   "id": "b4bacf9b",
   "metadata": {},
   "outputs": [],
   "source": [
    "from sklearn.ensemble import RandomForestRegressor"
   ]
  },
  {
   "cell_type": "code",
   "execution_count": 70,
   "id": "0b0bb1f0",
   "metadata": {},
   "outputs": [],
   "source": [
    "# Criando o regressor e fazendo o fit com os dados de treino\n",
    "reg_rf = RandomForestRegressor(random_state=42).fit(X_train, y_train)"
   ]
  },
  {
   "cell_type": "markdown",
   "id": "e1b32a35",
   "metadata": {},
   "source": [
    "#### Previsão"
   ]
  },
  {
   "cell_type": "code",
   "execution_count": 71,
   "id": "76251798",
   "metadata": {},
   "outputs": [],
   "source": [
    "y_pred_rf = reg_rf.predict(X_test)"
   ]
  },
  {
   "cell_type": "code",
   "execution_count": null,
   "id": "bd56bca2",
   "metadata": {},
   "outputs": [],
   "source": []
  },
  {
   "cell_type": "markdown",
   "id": "8ea86b3d",
   "metadata": {},
   "source": [
    "## XGBoost"
   ]
  },
  {
   "cell_type": "code",
   "execution_count": 72,
   "id": "3ba4c761",
   "metadata": {
    "scrolled": false
   },
   "outputs": [],
   "source": [
    "# Instalando o XGBoost\n",
    "#!pip install xgboost"
   ]
  },
  {
   "cell_type": "code",
   "execution_count": 73,
   "id": "a2286fb9",
   "metadata": {},
   "outputs": [],
   "source": [
    "# Importando o XGBoost\n",
    "from xgboost import XGBRegressor"
   ]
  },
  {
   "cell_type": "code",
   "execution_count": 74,
   "id": "11210713",
   "metadata": {},
   "outputs": [],
   "source": [
    "# Criando o regressor e fazendo o fit com os dados de treino\n",
    "reg_xgb = XGBRegressor(random_state=42).fit(X_train, y_train)"
   ]
  },
  {
   "cell_type": "markdown",
   "id": "3079bb7d",
   "metadata": {},
   "source": [
    "#### Previsão"
   ]
  },
  {
   "cell_type": "code",
   "execution_count": 75,
   "id": "6323380a",
   "metadata": {},
   "outputs": [],
   "source": [
    "y_pred_xgb = reg_xgb.predict(X_test)"
   ]
  },
  {
   "cell_type": "code",
   "execution_count": null,
   "id": "129d2221",
   "metadata": {},
   "outputs": [],
   "source": []
  },
  {
   "cell_type": "markdown",
   "id": "4476243c",
   "metadata": {},
   "source": [
    "# Avaliando modelos\n",
    "\n",
    "- Erro absoluto quanto o quadrático"
   ]
  },
  {
   "cell_type": "code",
   "execution_count": 76,
   "id": "269a3bcd",
   "metadata": {},
   "outputs": [],
   "source": [
    "from sklearn.metrics import mean_absolute_error\n",
    "from sklearn.metrics import mean_squared_error"
   ]
  },
  {
   "cell_type": "markdown",
   "id": "aa35effd",
   "metadata": {},
   "source": [
    "### Avaliando Erro da Regressão"
   ]
  },
  {
   "cell_type": "code",
   "execution_count": 77,
   "id": "14769a7a",
   "metadata": {},
   "outputs": [
    {
     "name": "stdout",
     "output_type": "stream",
     "text": [
      "23522.31796534937\n",
      "1529427264.4718125\n"
     ]
    }
   ],
   "source": [
    "print(mean_absolute_error(y_test, y_pred_rl))\n",
    "print(mean_squared_error(y_test, y_pred_rl))"
   ]
  },
  {
   "cell_type": "markdown",
   "id": "98e1e576",
   "metadata": {},
   "source": [
    "### Avaliando erro do Random Forest"
   ]
  },
  {
   "cell_type": "code",
   "execution_count": 78,
   "id": "14580e5f",
   "metadata": {},
   "outputs": [
    {
     "name": "stdout",
     "output_type": "stream",
     "text": [
      "18079.757282157676\n",
      "985746098.2582753\n"
     ]
    }
   ],
   "source": [
    "print(mean_absolute_error(y_test, y_pred_rf))\n",
    "print(mean_squared_error(y_test, y_pred_rf))"
   ]
  },
  {
   "cell_type": "markdown",
   "id": "279ba303",
   "metadata": {},
   "source": [
    "### Avaliando erro do xgb"
   ]
  },
  {
   "cell_type": "code",
   "execution_count": 79,
   "id": "b3159911",
   "metadata": {},
   "outputs": [
    {
     "name": "stdout",
     "output_type": "stream",
     "text": [
      "18938.96437370332\n",
      "1062438198.8005089\n"
     ]
    }
   ],
   "source": [
    "print(mean_absolute_error(y_test, y_pred_xgb))\n",
    "print(mean_squared_error(y_test, y_pred_xgb))"
   ]
  },
  {
   "cell_type": "code",
   "execution_count": null,
   "id": "de900b26",
   "metadata": {},
   "outputs": [],
   "source": []
  },
  {
   "cell_type": "markdown",
   "id": "6d45f71a",
   "metadata": {},
   "source": [
    "## Visualizando a relação do y_test com as previsões feitas"
   ]
  },
  {
   "cell_type": "code",
   "execution_count": 80,
   "id": "e28a885c",
   "metadata": {},
   "outputs": [
    {
     "data": {
      "image/png": "[encoded data removed]",
      "text/plain": [
       "<Figure size 1500x500 with 3 Axes>"
      ]
     },
     "metadata": {},
     "output_type": "display_data"
    }
   ],
   "source": [
    "fig, ax = plt.subplots(ncols=3,figsize=(15,5))\n",
    "\n",
    "ax[0].scatter(y_test/100000, y_pred_rl/100000)\n",
    "ax[0].plot([0,8],[0,8],'--r')\n",
    "ax[1].scatter(y_test/100000, y_pred_rf/100000)\n",
    "ax[1].plot([0,8],[0,8],'--r')\n",
    "ax[2].scatter(y_test/100000, y_pred_xgb/100000)\n",
    "ax[2].plot([0,8],[0,8],'--r')\n",
    "\n",
    "ax[0].set(xlim=(0, 8),ylim=(0, 8))\n",
    "ax[0].set_xlabel('y_test (x100.000)')\n",
    "ax[0].set_ylabel('y_pred (x100.000)')\n",
    "ax[0].set_title('Regressão Linear')\n",
    "ax[1].set(xlim=(0, 8),ylim=(0, 8))\n",
    "ax[1].set_xlabel('y_test (x100.000)')\n",
    "ax[1].set_ylabel('y_pred (x100.000)')\n",
    "ax[1].set_title('Random Forest')\n",
    "ax[2].set(xlim=(0, 8),ylim=(0, 8))\n",
    "ax[2].set_xlabel('y_test (x100.000)')\n",
    "ax[2].set_ylabel('y_pred (x100.000)')\n",
    "ax[2].set_title('XGBoost')\n",
    "\n",
    "plt.show()"
   ]
  },
  {
   "cell_type": "code",
   "execution_count": null,
   "id": "5480fdc1",
   "metadata": {},
   "outputs": [],
   "source": []
  },
  {
   "cell_type": "code",
   "execution_count": null,
   "id": "f3554a45",
   "metadata": {},
   "outputs": [],
   "source": []
  },
  {
   "cell_type": "code",
   "execution_count": null,
   "id": "2d9c316f",
   "metadata": {},
   "outputs": [],
   "source": []
  },
  {
   "cell_type": "markdown",
   "id": "748d5f7f",
   "metadata": {},
   "source": [
    "## Grid_search: Estimando os melhores parâmetros"
   ]
  },
  {
   "cell_type": "code",
   "execution_count": 83,
   "id": "288b4aeb",
   "metadata": {},
   "outputs": [],
   "source": [
    "from sklearn.model_selection import GridSearchCV"
   ]
  },
  {
   "cell_type": "markdown",
   "id": "08dbc8f1",
   "metadata": {},
   "source": [
    "#### Para o RandomForestRegressor"
   ]
  },
  {
   "cell_type": "code",
   "execution_count": 88,
   "id": "34b270da",
   "metadata": {},
   "outputs": [],
   "source": [
    "reg_rf = RandomForestRegressor(random_state=42)\n",
    "\n",
    "\n",
    "parametros_rf = {\n",
    "    'n_estimators': [80, 100, 150],\n",
    "    'criterion': ['squared_error','poisson'],\n",
    "    'max_depth': [10, 20, 30, 40],\n",
    "    'max_features': ['auto', 'sqrt']\n",
    "}"
   ]
  },
  {
   "cell_type": "code",
   "execution_count": 85,
   "id": "baef1a34",
   "metadata": {},
   "outputs": [],
   "source": [
    "import warnings\n",
    "warnings.filterwarnings('ignore')"
   ]
  },
  {
   "cell_type": "code",
   "execution_count": 89,
   "id": "e75dbd9a",
   "metadata": {},
   "outputs": [],
   "source": [
    "grid_search_rf = GridSearchCV(estimator=reg_rf,param_grid=parametros_rf,scoring='neg_mean_squared_error')\n",
    "grid_search_rf = grid_search_rf.fit(X_train,y_train)"
   ]
  },
  {
   "cell_type": "markdown",
   "id": "c216534b",
   "metadata": {},
   "source": [
    "### Verificando os melhores parâmetros para o RandomForest e o melhor score"
   ]
  },
  {
   "cell_type": "code",
   "execution_count": 91,
   "id": "6eddbaf6",
   "metadata": {},
   "outputs": [
    {
     "data": {
      "text/plain": [
       "{'criterion': 'squared_error',\n",
       " 'max_depth': 30,\n",
       " 'max_features': 'sqrt',\n",
       " 'n_estimators': 80}"
      ]
     },
     "execution_count": 91,
     "metadata": {},
     "output_type": "execute_result"
    }
   ],
   "source": [
    "grid_search_rf.best_params_"
   ]
  },
  {
   "cell_type": "code",
   "execution_count": 93,
   "id": "7bbde201",
   "metadata": {},
   "outputs": [
    {
     "data": {
      "text/plain": [
       "904745799.2672608"
      ]
     },
     "execution_count": 93,
     "metadata": {},
     "output_type": "execute_result"
    }
   ],
   "source": [
    "grid_search_rf.best_score_*(-1)"
   ]
  },
  {
   "cell_type": "markdown",
   "id": "c0d652e1",
   "metadata": {},
   "source": [
    "### Para o XGBoost"
   ]
  },
  {
   "cell_type": "code",
   "execution_count": 94,
   "id": "9efb113a",
   "metadata": {},
   "outputs": [],
   "source": [
    "from xgboost import XGBRegressor"
   ]
  },
  {
   "cell_type": "code",
   "execution_count": 95,
   "id": "52016a9a",
   "metadata": {},
   "outputs": [],
   "source": [
    "reg_xgb = XGBRegressor(random_state=42)\n",
    "\n",
    "parametros_xgb = {\n",
    "    'learning_rate': [0.3, 0.03, 0.1],\n",
    "    'max_depth': [10,20,30,40],\n",
    "    'n_estimators': [100, 500, 1000],\n",
    "    'colsample_bytree': [0.7, 1]\n",
    "}"
   ]
  },
  {
   "cell_type": "code",
   "execution_count": 96,
   "id": "da48ee85",
   "metadata": {},
   "outputs": [],
   "source": [
    "# Também fazendo o grid search\n",
    "grid_search_xgb = GridSearchCV(estimator=reg_xgb,param_grid=parametros_xgb,scoring='neg_mean_squared_error')\n",
    "grid_search_xgb = grid_search_xgb.fit(X_train,y_train)"
   ]
  },
  {
   "cell_type": "markdown",
   "id": "8014e8d2",
   "metadata": {},
   "source": [
    "#### Verificando os melhores parâmetros e o score"
   ]
  },
  {
   "cell_type": "code",
   "execution_count": 97,
   "id": "0564b557",
   "metadata": {},
   "outputs": [
    {
     "data": {
      "text/plain": [
       "{'colsample_bytree': 0.7,\n",
       " 'learning_rate': 0.1,\n",
       " 'max_depth': 40,\n",
       " 'n_estimators': 100}"
      ]
     },
     "execution_count": 97,
     "metadata": {},
     "output_type": "execute_result"
    }
   ],
   "source": [
    "grid_search_xgb.best_params_"
   ]
  },
  {
   "cell_type": "code",
   "execution_count": 98,
   "id": "157bf860",
   "metadata": {},
   "outputs": [
    {
     "data": {
      "text/plain": [
       "1060888968.1272634"
      ]
     },
     "execution_count": 98,
     "metadata": {},
     "output_type": "execute_result"
    }
   ],
   "source": [
    "grid_search_xgb.best_score_*(-1)"
   ]
  },
  {
   "cell_type": "markdown",
   "id": "bca464cd",
   "metadata": {},
   "source": [
    "### Selecionando o melhor estimados para os dois algoritmos\n",
    "\n",
    "- best_estimator_ = Permite acessar diretamente o modelo ajustado com os melhores parâmetros encontrados, sem precisar re-executar o modelo colocando os parametros\n"
   ]
  },
  {
   "cell_type": "code",
   "execution_count": 99,
   "id": "64923a00",
   "metadata": {},
   "outputs": [],
   "source": [
    "# Para o Random Forest\n",
    "reg_rf_best = grid_search_rf.best_estimator_"
   ]
  },
  {
   "cell_type": "code",
   "execution_count": 100,
   "id": "4ea360d9",
   "metadata": {},
   "outputs": [],
   "source": [
    "# Para o XGBoost\n",
    "reg_xgb_best = grid_search_xgb.best_estimator_"
   ]
  },
  {
   "cell_type": "markdown",
   "id": "582919e9",
   "metadata": {},
   "source": [
    "### Fazendo a previsão no X_test"
   ]
  },
  {
   "cell_type": "code",
   "execution_count": 101,
   "id": "b313eaee",
   "metadata": {},
   "outputs": [],
   "source": [
    "# RandomForest\n",
    "y_pred_rf = reg_rf_best.predict(X_test)"
   ]
  },
  {
   "cell_type": "code",
   "execution_count": 102,
   "id": "f4ece2e1",
   "metadata": {},
   "outputs": [],
   "source": [
    "# XGBoost\n",
    "y_pred_xgb = reg_xgb_best.predict(X_test)"
   ]
  },
  {
   "cell_type": "markdown",
   "id": "69986d79",
   "metadata": {},
   "source": [
    "### Avaliando com o erro absoluto e quadrático"
   ]
  },
  {
   "cell_type": "code",
   "execution_count": 103,
   "id": "aed30768",
   "metadata": {},
   "outputs": [
    {
     "name": "stdout",
     "output_type": "stream",
     "text": [
      "17742.263459543567\n",
      "1046003487.7484534\n"
     ]
    }
   ],
   "source": [
    "# do Random Forest\n",
    "print(mean_absolute_error(y_test, y_pred_rf))\n",
    "print(mean_squared_error(y_test, y_pred_rf))"
   ]
  },
  {
   "cell_type": "code",
   "execution_count": 104,
   "id": "09c5422e",
   "metadata": {},
   "outputs": [
    {
     "name": "stdout",
     "output_type": "stream",
     "text": [
      "17897.76695409751\n",
      "969327257.5086368\n"
     ]
    }
   ],
   "source": [
    "# e do xgb\n",
    "print(mean_absolute_error(y_test, y_pred_xgb))\n",
    "print(mean_squared_error(y_test, y_pred_xgb))"
   ]
  },
  {
   "cell_type": "code",
   "execution_count": null,
   "id": "e847b62e",
   "metadata": {},
   "outputs": [],
   "source": []
  },
  {
   "cell_type": "markdown",
   "id": "2d3cc261",
   "metadata": {},
   "source": [
    "### Visualizando a relação do y_test com as previsões feitas"
   ]
  },
  {
   "cell_type": "code",
   "execution_count": 105,
   "id": "ece81661",
   "metadata": {},
   "outputs": [
    {
     "data": {
      "image/png": "[encoded data removed]",
      "text/plain": [
       "<Figure size 1500x500 with 2 Axes>"
      ]
     },
     "metadata": {},
     "output_type": "display_data"
    }
   ],
   "source": [
    "# Criando esse gráfico\n",
    "fig, ax = plt.subplots(ncols=2,figsize=(15,5))\n",
    "\n",
    "ax[0].scatter(y_test/100000, y_pred_rf/100000)\n",
    "ax[0].plot([0,8],[0,8],'--r')\n",
    "ax[1].scatter(y_test/100000, y_pred_xgb/100000)\n",
    "ax[1].plot([0,8],[0,8],'--r')\n",
    "\n",
    "ax[0].set(xlim=(0, 8),ylim=(0, 8))\n",
    "ax[0].set_xlabel('y_test (x100.000)')\n",
    "ax[0].set_ylabel('y_pred (x100.000)')\n",
    "ax[0].set_title('Random Forest')\n",
    "ax[1].set(xlim=(0, 8),ylim=(0, 8))\n",
    "ax[1].set_xlabel('y_test (x100.000)')\n",
    "ax[1].set_ylabel('y_pred (x100.000)')\n",
    "ax[1].set_title('XGBoost')\n",
    "\n",
    "plt.show()"
   ]
  },
  {
   "cell_type": "code",
   "execution_count": null,
   "id": "2851fc9f",
   "metadata": {},
   "outputs": [],
   "source": []
  },
  {
   "cell_type": "code",
   "execution_count": null,
   "id": "daf90ca0",
   "metadata": {},
   "outputs": [],
   "source": []
  },
  {
   "cell_type": "code",
   "execution_count": null,
   "id": "aba082ff",
   "metadata": {},
   "outputs": [],
   "source": []
  },
  {
   "cell_type": "markdown",
   "id": "d855508c",
   "metadata": {},
   "source": [
    "## Fazendo a previsão para a base de teste da competição"
   ]
  },
  {
   "cell_type": "code",
   "execution_count": 106,
   "id": "215dd6a9",
   "metadata": {},
   "outputs": [],
   "source": [
    "# Mantendo apenas as colunas numéricas\n",
    "col_nr_test = teste.columns[teste.dtypes != 'object']\n",
    "teste = teste.loc[:,col_nr_test]"
   ]
  },
  {
   "cell_type": "markdown",
   "id": "db767eed",
   "metadata": {},
   "source": [
    "## Agora podemos usar nosso modelo e ajustar os dados para usarmos no Kaggle"
   ]
  },
  {
   "cell_type": "markdown",
   "id": "01b5b5ab",
   "metadata": {},
   "source": [
    "### Utilizando Random Forest\n",
    "- Melhor resultado"
   ]
  },
  {
   "cell_type": "code",
   "execution_count": 107,
   "id": "511117c5",
   "metadata": {
    "scrolled": true
   },
   "outputs": [],
   "source": [
    "y_pred = reg_rf_best.predict(teste)"
   ]
  },
  {
   "cell_type": "markdown",
   "id": "af8e4a28",
   "metadata": {},
   "source": [
    "#### Podemos adicionar essa coluna de previsão na nossa base\n"
   ]
  },
  {
   "cell_type": "code",
   "execution_count": 108,
   "id": "bc1fd647",
   "metadata": {},
   "outputs": [],
   "source": [
    "teste['SalePrice'] = y_pred"
   ]
  },
  {
   "cell_type": "markdown",
   "id": "1dc184a6",
   "metadata": {},
   "source": [
    "### E extrair somente o Id e o SalePrice como pede o Kaggle\n"
   ]
  },
  {
   "cell_type": "code",
   "execution_count": 109,
   "id": "fd4ca1de",
   "metadata": {},
   "outputs": [
    {
     "data": {
      "text/html": [
       "<div>\n",
       "<style scoped>\n",
       "    .dataframe tbody tr th:only-of-type {\n",
       "        vertical-align: middle;\n",
       "    }\n",
       "\n",
       "    .dataframe tbody tr th {\n",
       "        vertical-align: top;\n",
       "    }\n",
       "\n",
       "    .dataframe thead th {\n",
       "        text-align: right;\n",
       "    }\n",
       "</style>\n",
       "<table border=\"1\" class=\"dataframe\">\n",
       "  <thead>\n",
       "    <tr style=\"text-align: right;\">\n",
       "      <th></th>\n",
       "      <th>Id</th>\n",
       "      <th>SalePrice</th>\n",
       "    </tr>\n",
       "  </thead>\n",
       "  <tbody>\n",
       "    <tr>\n",
       "      <th>0</th>\n",
       "      <td>1461</td>\n",
       "      <td>119298.550</td>\n",
       "    </tr>\n",
       "    <tr>\n",
       "      <th>1</th>\n",
       "      <td>1462</td>\n",
       "      <td>157027.500</td>\n",
       "    </tr>\n",
       "    <tr>\n",
       "      <th>2</th>\n",
       "      <td>1463</td>\n",
       "      <td>178858.975</td>\n",
       "    </tr>\n",
       "  </tbody>\n",
       "</table>\n",
       "</div>"
      ],
      "text/plain": [
       "     Id   SalePrice\n",
       "0  1461  119298.550\n",
       "1  1462  157027.500\n",
       "2  1463  178858.975"
      ]
     },
     "execution_count": 109,
     "metadata": {},
     "output_type": "execute_result"
    }
   ],
   "source": [
    "base_kaggle = teste[['Id','SalePrice']]\n",
    "base_kaggle.head(3)"
   ]
  },
  {
   "cell_type": "markdown",
   "id": "6ce54719",
   "metadata": {},
   "source": [
    "### Podemos então exportar essa base\n"
   ]
  },
  {
   "cell_type": "code",
   "execution_count": 110,
   "id": "d731de68",
   "metadata": {},
   "outputs": [],
   "source": [
    "base_kaggle.to_csv('resultado5.csv',index=False)"
   ]
  },
  {
   "cell_type": "code",
   "execution_count": null,
   "id": "545cbb07",
   "metadata": {},
   "outputs": [],
   "source": []
  },
  {
   "cell_type": "code",
   "execution_count": null,
   "id": "69a01f4a",
   "metadata": {},
   "outputs": [],
   "source": []
  },
  {
   "cell_type": "markdown",
   "id": "a0e15726",
   "metadata": {},
   "source": [
    "### Fazendo tambem a previsão com o XGBoost"
   ]
  },
  {
   "cell_type": "code",
   "execution_count": 111,
   "id": "4f7cac2b",
   "metadata": {},
   "outputs": [],
   "source": [
    "# Retirando a coluna SalePrice\n",
    "teste = teste.drop('SalePrice',axis=1)"
   ]
  },
  {
   "cell_type": "code",
   "execution_count": 112,
   "id": "c9020403",
   "metadata": {},
   "outputs": [],
   "source": [
    "# Usando o XGBoost para fazer a regressão\n",
    "y_pred = reg_xgb_best.predict(teste)"
   ]
  },
  {
   "cell_type": "code",
   "execution_count": 113,
   "id": "63548a59",
   "metadata": {},
   "outputs": [],
   "source": [
    "# Podemos novamente adicionar a coluna na base\n",
    "teste['SalePrice'] = y_pred"
   ]
  },
  {
   "cell_type": "code",
   "execution_count": 114,
   "id": "e256a60f",
   "metadata": {},
   "outputs": [
    {
     "data": {
      "text/html": [
       "<div>\n",
       "<style scoped>\n",
       "    .dataframe tbody tr th:only-of-type {\n",
       "        vertical-align: middle;\n",
       "    }\n",
       "\n",
       "    .dataframe tbody tr th {\n",
       "        vertical-align: top;\n",
       "    }\n",
       "\n",
       "    .dataframe thead th {\n",
       "        text-align: right;\n",
       "    }\n",
       "</style>\n",
       "<table border=\"1\" class=\"dataframe\">\n",
       "  <thead>\n",
       "    <tr style=\"text-align: right;\">\n",
       "      <th></th>\n",
       "      <th>Id</th>\n",
       "      <th>SalePrice</th>\n",
       "    </tr>\n",
       "  </thead>\n",
       "  <tbody>\n",
       "    <tr>\n",
       "      <th>0</th>\n",
       "      <td>1461</td>\n",
       "      <td>135623.796875</td>\n",
       "    </tr>\n",
       "    <tr>\n",
       "      <th>1</th>\n",
       "      <td>1462</td>\n",
       "      <td>154920.687500</td>\n",
       "    </tr>\n",
       "    <tr>\n",
       "      <th>2</th>\n",
       "      <td>1463</td>\n",
       "      <td>190454.078125</td>\n",
       "    </tr>\n",
       "  </tbody>\n",
       "</table>\n",
       "</div>"
      ],
      "text/plain": [
       "     Id      SalePrice\n",
       "0  1461  135623.796875\n",
       "1  1462  154920.687500\n",
       "2  1463  190454.078125"
      ]
     },
     "execution_count": 114,
     "metadata": {},
     "output_type": "execute_result"
    }
   ],
   "source": [
    "# E extrair somente o Id e o SalePrice\n",
    "base_kaggle = teste[['Id','SalePrice']]\n",
    "base_kaggle.head(3)"
   ]
  },
  {
   "cell_type": "code",
   "execution_count": 115,
   "id": "f518baab",
   "metadata": {},
   "outputs": [],
   "source": [
    "# E exportar a nova base\n",
    "base_kaggle.to_csv('resultado5xgb.csv',index=False)"
   ]
  },
  {
   "cell_type": "code",
   "execution_count": null,
   "id": "8b0a3675",
   "metadata": {},
   "outputs": [],
   "source": []
  }
 ],
 "metadata": {
  "kernelspec": {
   "display_name": "Python 3 (ipykernel)",
   "language": "python",
   "name": "python3"
  },
  "language_info": {
   "codemirror_mode": {
    "name": "ipython",
    "version": 3
   },
   "file_extension": ".py",
   "mimetype": "text/x-python",
   "name": "python",
   "nbconvert_exporter": "python",
   "pygments_lexer": "ipython3",
   "version": "3.11.5"
  }
 },
 "nbformat": 4,
 "nbformat_minor": 5
}
